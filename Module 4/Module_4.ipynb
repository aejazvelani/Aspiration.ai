{
  "nbformat": 4,
  "nbformat_minor": 0,
  "metadata": {
    "kernelspec": {
      "display_name": "Python 3",
      "language": "python",
      "name": "python3"
    },
    "language_info": {
      "codemirror_mode": {
        "name": "ipython",
        "version": 3
      },
      "file_extension": ".py",
      "mimetype": "text/x-python",
      "name": "python",
      "nbconvert_exporter": "python",
      "pygments_lexer": "ipython3",
      "version": "3.7.3"
    },
    "colab": {
      "name": "Module_4.ipynb",
      "provenance": [],
      "toc_visible": true
    }
  },
  "cells": [
    {
      "cell_type": "markdown",
      "metadata": {
        "id": "_RAYhl9SSKil",
        "colab_type": "text"
      },
      "source": [
        "### Module 4\n",
        "# Trade Call Prediction using Classification\n",
        "\n",
        "In this module, we'd be covering the concept of classification and utilize our skills to solve the following queries – (Stock Price = Close Price)"
      ]
    },
    {
      "cell_type": "markdown",
      "metadata": {
        "id": "Jb5fKIPBSKio",
        "colab_type": "text"
      },
      "source": [
        "## Problem Statements\n",
        "\n",
        "`\n"
      ]
    },
    {
      "cell_type": "markdown",
      "metadata": {
        "id": "weWOJ_KlSKip",
        "colab_type": "text"
      },
      "source": [
        "## Problem 4.1 \n",
        "\n",
        "Import the csv file of the stock which contained the Bollinger columns as well."
      ]
    },
    {
      "cell_type": "code",
      "metadata": {
        "id": "cBis0NK-SKir",
        "colab_type": "code",
        "colab": {
          "base_uri": "https://localhost:8080/",
          "height": 70
        },
        "outputId": "0e239059-ff55-4902-e871-52b342dbcda8"
      },
      "source": [
        "import pandas as pd\n",
        "import numpy as np\n",
        "import matplotlib.pyplot as plt\n",
        "import seaborn as sns"
      ],
      "execution_count": 1,
      "outputs": [
        {
          "output_type": "stream",
          "text": [
            "/usr/local/lib/python3.6/dist-packages/statsmodels/tools/_testing.py:19: FutureWarning: pandas.util.testing is deprecated. Use the functions in the public API at pandas.testing instead.\n",
            "  import pandas.util.testing as tm\n"
          ],
          "name": "stderr"
        }
      ]
    },
    {
      "cell_type": "code",
      "metadata": {
        "id": "MvziYPI2SKiz",
        "colab_type": "code",
        "colab": {
          "base_uri": "https://localhost:8080/",
          "height": 434
        },
        "outputId": "50b48429-225d-49c5-d36d-405d07db38d0"
      },
      "source": [
        "df = pd.read_csv(\"RELIANCE.csv\", parse_dates=True)\n",
        "df.head()"
      ],
      "execution_count": 2,
      "outputs": [
        {
          "output_type": "execute_result",
          "data": {
            "text/html": [
              "<div>\n",
              "<style scoped>\n",
              "    .dataframe tbody tr th:only-of-type {\n",
              "        vertical-align: middle;\n",
              "    }\n",
              "\n",
              "    .dataframe tbody tr th {\n",
              "        vertical-align: top;\n",
              "    }\n",
              "\n",
              "    .dataframe thead th {\n",
              "        text-align: right;\n",
              "    }\n",
              "</style>\n",
              "<table border=\"1\" class=\"dataframe\">\n",
              "  <thead>\n",
              "    <tr style=\"text-align: right;\">\n",
              "      <th></th>\n",
              "      <th>Symbol</th>\n",
              "      <th>Series</th>\n",
              "      <th>Date</th>\n",
              "      <th>Prev Close</th>\n",
              "      <th>Open Price</th>\n",
              "      <th>High Price</th>\n",
              "      <th>Low Price</th>\n",
              "      <th>Last Price</th>\n",
              "      <th>Close Price</th>\n",
              "      <th>Average Price</th>\n",
              "      <th>Total Traded Quantity</th>\n",
              "      <th>Turnover</th>\n",
              "      <th>No. of Trades</th>\n",
              "      <th>Deliverable Qty</th>\n",
              "      <th>% Dly Qt to Traded Qty</th>\n",
              "    </tr>\n",
              "  </thead>\n",
              "  <tbody>\n",
              "    <tr>\n",
              "      <th>0</th>\n",
              "      <td>RELIANCE</td>\n",
              "      <td>EQ</td>\n",
              "      <td>15-May-2017</td>\n",
              "      <td>1350.45</td>\n",
              "      <td>1356.40</td>\n",
              "      <td>1356.40</td>\n",
              "      <td>1333.50</td>\n",
              "      <td>1343.60</td>\n",
              "      <td>1344.10</td>\n",
              "      <td>1344.22</td>\n",
              "      <td>1540213</td>\n",
              "      <td>2.070379e+09</td>\n",
              "      <td>75812</td>\n",
              "      <td>802733</td>\n",
              "      <td>52.12</td>\n",
              "    </tr>\n",
              "    <tr>\n",
              "      <th>1</th>\n",
              "      <td>RELIANCE</td>\n",
              "      <td>EQ</td>\n",
              "      <td>16-May-2017</td>\n",
              "      <td>1344.10</td>\n",
              "      <td>1346.05</td>\n",
              "      <td>1376.90</td>\n",
              "      <td>1341.00</td>\n",
              "      <td>1356.20</td>\n",
              "      <td>1356.30</td>\n",
              "      <td>1360.59</td>\n",
              "      <td>2892947</td>\n",
              "      <td>3.936121e+09</td>\n",
              "      <td>79767</td>\n",
              "      <td>1238129</td>\n",
              "      <td>42.80</td>\n",
              "    </tr>\n",
              "    <tr>\n",
              "      <th>2</th>\n",
              "      <td>RELIANCE</td>\n",
              "      <td>EQ</td>\n",
              "      <td>17-May-2017</td>\n",
              "      <td>1356.30</td>\n",
              "      <td>1353.00</td>\n",
              "      <td>1365.95</td>\n",
              "      <td>1347.75</td>\n",
              "      <td>1350.00</td>\n",
              "      <td>1353.10</td>\n",
              "      <td>1354.16</td>\n",
              "      <td>2250304</td>\n",
              "      <td>3.047263e+09</td>\n",
              "      <td>56277</td>\n",
              "      <td>1225837</td>\n",
              "      <td>54.47</td>\n",
              "    </tr>\n",
              "    <tr>\n",
              "      <th>3</th>\n",
              "      <td>RELIANCE</td>\n",
              "      <td>EQ</td>\n",
              "      <td>18-May-2017</td>\n",
              "      <td>1353.10</td>\n",
              "      <td>1340.25</td>\n",
              "      <td>1350.00</td>\n",
              "      <td>1324.10</td>\n",
              "      <td>1327.45</td>\n",
              "      <td>1327.35</td>\n",
              "      <td>1336.14</td>\n",
              "      <td>2237916</td>\n",
              "      <td>2.990178e+09</td>\n",
              "      <td>84723</td>\n",
              "      <td>1339478</td>\n",
              "      <td>59.85</td>\n",
              "    </tr>\n",
              "    <tr>\n",
              "      <th>4</th>\n",
              "      <td>RELIANCE</td>\n",
              "      <td>EQ</td>\n",
              "      <td>19-May-2017</td>\n",
              "      <td>1327.35</td>\n",
              "      <td>1333.00</td>\n",
              "      <td>1335.70</td>\n",
              "      <td>1310.00</td>\n",
              "      <td>1318.20</td>\n",
              "      <td>1318.85</td>\n",
              "      <td>1321.99</td>\n",
              "      <td>2928883</td>\n",
              "      <td>3.871940e+09</td>\n",
              "      <td>115988</td>\n",
              "      <td>1444387</td>\n",
              "      <td>49.32</td>\n",
              "    </tr>\n",
              "  </tbody>\n",
              "</table>\n",
              "</div>"
            ],
            "text/plain": [
              "     Symbol Series  ... Deliverable Qty  % Dly Qt to Traded Qty\n",
              "0  RELIANCE     EQ  ...          802733                   52.12\n",
              "1  RELIANCE     EQ  ...         1238129                   42.80\n",
              "2  RELIANCE     EQ  ...         1225837                   54.47\n",
              "3  RELIANCE     EQ  ...         1339478                   59.85\n",
              "4  RELIANCE     EQ  ...         1444387                   49.32\n",
              "\n",
              "[5 rows x 15 columns]"
            ]
          },
          "metadata": {
            "tags": []
          },
          "execution_count": 2
        }
      ]
    },
    {
      "cell_type": "code",
      "metadata": {
        "id": "yby45J-cSKi-",
        "colab_type": "code",
        "colab": {
          "base_uri": "https://localhost:8080/",
          "height": 33
        },
        "outputId": "3e26cb48-82e6-4ef5-ef59-24c8cb09a027"
      },
      "source": [
        "df.shape      "
      ],
      "execution_count": 3,
      "outputs": [
        {
          "output_type": "execute_result",
          "data": {
            "text/plain": [
              "(495, 15)"
            ]
          },
          "metadata": {
            "tags": []
          },
          "execution_count": 3
        }
      ]
    },
    {
      "cell_type": "code",
      "metadata": {
        "id": "IS4KMVPfSKjH",
        "colab_type": "code",
        "colab": {
          "base_uri": "https://localhost:8080/",
          "height": 385
        },
        "outputId": "8f6c8b6f-5219-49b5-f810-0df2cb078231"
      },
      "source": [
        "df.info()"
      ],
      "execution_count": 4,
      "outputs": [
        {
          "output_type": "stream",
          "text": [
            "<class 'pandas.core.frame.DataFrame'>\n",
            "RangeIndex: 495 entries, 0 to 494\n",
            "Data columns (total 15 columns):\n",
            " #   Column                  Non-Null Count  Dtype  \n",
            "---  ------                  --------------  -----  \n",
            " 0   Symbol                  495 non-null    object \n",
            " 1   Series                  495 non-null    object \n",
            " 2   Date                    495 non-null    object \n",
            " 3   Prev Close              495 non-null    float64\n",
            " 4   Open Price              495 non-null    float64\n",
            " 5   High Price              495 non-null    float64\n",
            " 6   Low Price               495 non-null    float64\n",
            " 7   Last Price              495 non-null    float64\n",
            " 8   Close Price             495 non-null    float64\n",
            " 9   Average Price           495 non-null    float64\n",
            " 10  Total Traded Quantity   495 non-null    int64  \n",
            " 11  Turnover                495 non-null    float64\n",
            " 12  No. of Trades           495 non-null    int64  \n",
            " 13  Deliverable Qty         495 non-null    int64  \n",
            " 14  % Dly Qt to Traded Qty  495 non-null    float64\n",
            "dtypes: float64(9), int64(3), object(3)\n",
            "memory usage: 58.1+ KB\n"
          ],
          "name": "stdout"
        }
      ]
    },
    {
      "cell_type": "code",
      "metadata": {
        "id": "Nwojc3w3SKjS",
        "colab_type": "code",
        "colab": {
          "base_uri": "https://localhost:8080/",
          "height": 33
        },
        "outputId": "3061a2a6-bf8e-41af-e481-9d7aeef8d8d1"
      },
      "source": [
        "df.duplicated().sum()"
      ],
      "execution_count": 5,
      "outputs": [
        {
          "output_type": "execute_result",
          "data": {
            "text/plain": [
              "0"
            ]
          },
          "metadata": {
            "tags": []
          },
          "execution_count": 5
        }
      ]
    },
    {
      "cell_type": "code",
      "metadata": {
        "id": "JcH7F2ZtSKjc",
        "colab_type": "code",
        "colab": {
          "base_uri": "https://localhost:8080/",
          "height": 284
        },
        "outputId": "e8528066-0efa-4567-b7ec-554f75c12e74"
      },
      "source": [
        "df.isnull().sum()"
      ],
      "execution_count": 6,
      "outputs": [
        {
          "output_type": "execute_result",
          "data": {
            "text/plain": [
              "Symbol                    0\n",
              "Series                    0\n",
              "Date                      0\n",
              "Prev Close                0\n",
              "Open Price                0\n",
              "High Price                0\n",
              "Low Price                 0\n",
              "Last Price                0\n",
              "Close Price               0\n",
              "Average Price             0\n",
              "Total Traded Quantity     0\n",
              "Turnover                  0\n",
              "No. of Trades             0\n",
              "Deliverable Qty           0\n",
              "% Dly Qt to Traded Qty    0\n",
              "dtype: int64"
            ]
          },
          "metadata": {
            "tags": []
          },
          "execution_count": 6
        }
      ]
    },
    {
      "cell_type": "markdown",
      "metadata": {
        "id": "tkCIT1ZdSKjj",
        "colab_type": "text"
      },
      "source": [
        "## [Source: For Calculating Bollinger Bands](https://towardsdatascience.com/trading-technical-analysis-with-pandas-43e737a17861)\n",
        "\n",
        "[**Bollinger Bands**](https://www.bollingerbands.com/bollinger-bands) is used to define the prevailing high and low prices in a market to characterize the trading band of a financial instrument or commodity. Bollinger Bands are a volatility indicator. Bands are consists of Moving Average (MA) line, a upper band and lower band. The upper and lower bands are simply MA adding and subtracting standard deviation. Standard deviation is a measurement of volatility. That’s why it’s a volatility indictor."
      ]
    },
    {
      "cell_type": "markdown",
      "metadata": {
        "id": "t1LEzMWwSKjl",
        "colab_type": "text"
      },
      "source": [
        "Create a new column 'Call', whose entries are -\n",
        "- 'Buy' if the stock price is below the lower Bollinger band\n",
        "- 'Hold Buy/ Liquidate Short' if the stock price is between the lower and middle Bollinger band\n",
        "- 'Hold Short/ Liquidate Buy' if the stock price is between the middle and upper Bollinger band\n",
        "- 'Short' if the stock price is above the upper Bollinger band"
      ]
    },
    {
      "cell_type": "code",
      "metadata": {
        "id": "VHYilRXSSKjm",
        "colab_type": "code",
        "colab": {}
      },
      "source": [
        "# calculating Simple Moving Average with 20 days window\n",
        "df['sma'] = df['Close Price'].rolling(window=20).mean()\n",
        "\n",
        "# calculating the standar deviation\n",
        "df['rstd'] = df['Close Price'].rolling(window=20).std()"
      ],
      "execution_count": 7,
      "outputs": []
    },
    {
      "cell_type": "code",
      "metadata": {
        "id": "Ggqa1RllSKjs",
        "colab_type": "code",
        "colab": {
          "base_uri": "https://localhost:8080/",
          "height": 434
        },
        "outputId": "10e0a517-1eb5-45cf-e16f-7b209af5b96b"
      },
      "source": [
        "df['upper_band'] = df['sma'] + 2 * df['rstd']\n",
        "df['lower_band'] = df['sma'] - 2 * df['rstd']\n",
        "df['mid_band'] = (df['upper_band'] + df['lower_band']) / 2\n",
        "df.dropna(inplace=True)\n",
        "df.head()"
      ],
      "execution_count": 8,
      "outputs": [
        {
          "output_type": "execute_result",
          "data": {
            "text/html": [
              "<div>\n",
              "<style scoped>\n",
              "    .dataframe tbody tr th:only-of-type {\n",
              "        vertical-align: middle;\n",
              "    }\n",
              "\n",
              "    .dataframe tbody tr th {\n",
              "        vertical-align: top;\n",
              "    }\n",
              "\n",
              "    .dataframe thead th {\n",
              "        text-align: right;\n",
              "    }\n",
              "</style>\n",
              "<table border=\"1\" class=\"dataframe\">\n",
              "  <thead>\n",
              "    <tr style=\"text-align: right;\">\n",
              "      <th></th>\n",
              "      <th>Symbol</th>\n",
              "      <th>Series</th>\n",
              "      <th>Date</th>\n",
              "      <th>Prev Close</th>\n",
              "      <th>Open Price</th>\n",
              "      <th>High Price</th>\n",
              "      <th>Low Price</th>\n",
              "      <th>Last Price</th>\n",
              "      <th>Close Price</th>\n",
              "      <th>Average Price</th>\n",
              "      <th>Total Traded Quantity</th>\n",
              "      <th>Turnover</th>\n",
              "      <th>No. of Trades</th>\n",
              "      <th>Deliverable Qty</th>\n",
              "      <th>% Dly Qt to Traded Qty</th>\n",
              "      <th>sma</th>\n",
              "      <th>rstd</th>\n",
              "      <th>upper_band</th>\n",
              "      <th>lower_band</th>\n",
              "      <th>mid_band</th>\n",
              "    </tr>\n",
              "  </thead>\n",
              "  <tbody>\n",
              "    <tr>\n",
              "      <th>19</th>\n",
              "      <td>RELIANCE</td>\n",
              "      <td>EQ</td>\n",
              "      <td>09-Jun-2017</td>\n",
              "      <td>1331.70</td>\n",
              "      <td>1345.10</td>\n",
              "      <td>1352.95</td>\n",
              "      <td>1331.0</td>\n",
              "      <td>1332.95</td>\n",
              "      <td>1335.70</td>\n",
              "      <td>1340.93</td>\n",
              "      <td>3162802</td>\n",
              "      <td>4.241089e+09</td>\n",
              "      <td>78984</td>\n",
              "      <td>1333930</td>\n",
              "      <td>42.18</td>\n",
              "      <td>1331.2675</td>\n",
              "      <td>17.996668</td>\n",
              "      <td>1367.260837</td>\n",
              "      <td>1295.274163</td>\n",
              "      <td>1331.2675</td>\n",
              "    </tr>\n",
              "    <tr>\n",
              "      <th>20</th>\n",
              "      <td>RELIANCE</td>\n",
              "      <td>EQ</td>\n",
              "      <td>12-Jun-2017</td>\n",
              "      <td>1335.70</td>\n",
              "      <td>1326.55</td>\n",
              "      <td>1329.75</td>\n",
              "      <td>1317.0</td>\n",
              "      <td>1319.00</td>\n",
              "      <td>1319.45</td>\n",
              "      <td>1321.07</td>\n",
              "      <td>1927513</td>\n",
              "      <td>2.546372e+09</td>\n",
              "      <td>44210</td>\n",
              "      <td>1194367</td>\n",
              "      <td>61.96</td>\n",
              "      <td>1330.0350</td>\n",
              "      <td>17.915475</td>\n",
              "      <td>1365.865950</td>\n",
              "      <td>1294.204050</td>\n",
              "      <td>1330.0350</td>\n",
              "    </tr>\n",
              "    <tr>\n",
              "      <th>21</th>\n",
              "      <td>RELIANCE</td>\n",
              "      <td>EQ</td>\n",
              "      <td>13-Jun-2017</td>\n",
              "      <td>1319.45</td>\n",
              "      <td>1320.60</td>\n",
              "      <td>1327.00</td>\n",
              "      <td>1311.0</td>\n",
              "      <td>1312.00</td>\n",
              "      <td>1314.35</td>\n",
              "      <td>1318.87</td>\n",
              "      <td>1377291</td>\n",
              "      <td>1.816467e+09</td>\n",
              "      <td>63864</td>\n",
              "      <td>679324</td>\n",
              "      <td>49.32</td>\n",
              "      <td>1327.9375</td>\n",
              "      <td>17.116473</td>\n",
              "      <td>1362.170446</td>\n",
              "      <td>1293.704554</td>\n",
              "      <td>1327.9375</td>\n",
              "    </tr>\n",
              "    <tr>\n",
              "      <th>22</th>\n",
              "      <td>RELIANCE</td>\n",
              "      <td>EQ</td>\n",
              "      <td>14-Jun-2017</td>\n",
              "      <td>1314.35</td>\n",
              "      <td>1315.90</td>\n",
              "      <td>1360.00</td>\n",
              "      <td>1315.9</td>\n",
              "      <td>1360.00</td>\n",
              "      <td>1357.50</td>\n",
              "      <td>1348.06</td>\n",
              "      <td>12101027</td>\n",
              "      <td>1.631296e+10</td>\n",
              "      <td>139964</td>\n",
              "      <td>7232727</td>\n",
              "      <td>59.77</td>\n",
              "      <td>1328.1575</td>\n",
              "      <td>17.481300</td>\n",
              "      <td>1363.120101</td>\n",
              "      <td>1293.194899</td>\n",
              "      <td>1328.1575</td>\n",
              "    </tr>\n",
              "    <tr>\n",
              "      <th>23</th>\n",
              "      <td>RELIANCE</td>\n",
              "      <td>EQ</td>\n",
              "      <td>15-Jun-2017</td>\n",
              "      <td>1357.50</td>\n",
              "      <td>1360.00</td>\n",
              "      <td>1395.00</td>\n",
              "      <td>1359.1</td>\n",
              "      <td>1377.35</td>\n",
              "      <td>1383.95</td>\n",
              "      <td>1379.51</td>\n",
              "      <td>6466804</td>\n",
              "      <td>8.921028e+09</td>\n",
              "      <td>122808</td>\n",
              "      <td>2913028</td>\n",
              "      <td>45.05</td>\n",
              "      <td>1330.9875</td>\n",
              "      <td>21.470046</td>\n",
              "      <td>1373.927591</td>\n",
              "      <td>1288.047409</td>\n",
              "      <td>1330.9875</td>\n",
              "    </tr>\n",
              "  </tbody>\n",
              "</table>\n",
              "</div>"
            ],
            "text/plain": [
              "      Symbol Series         Date  ...   upper_band   lower_band   mid_band\n",
              "19  RELIANCE     EQ  09-Jun-2017  ...  1367.260837  1295.274163  1331.2675\n",
              "20  RELIANCE     EQ  12-Jun-2017  ...  1365.865950  1294.204050  1330.0350\n",
              "21  RELIANCE     EQ  13-Jun-2017  ...  1362.170446  1293.704554  1327.9375\n",
              "22  RELIANCE     EQ  14-Jun-2017  ...  1363.120101  1293.194899  1328.1575\n",
              "23  RELIANCE     EQ  15-Jun-2017  ...  1373.927591  1288.047409  1330.9875\n",
              "\n",
              "[5 rows x 20 columns]"
            ]
          },
          "metadata": {
            "tags": []
          },
          "execution_count": 8
        }
      ]
    },
    {
      "cell_type": "code",
      "metadata": {
        "id": "hbsbh1uFSKjy",
        "colab_type": "code",
        "colab": {}
      },
      "source": [
        "def call(df):\n",
        "    if df['Close Price'] < df['lower_band']:\n",
        "        return \"Buy\"\n",
        "    elif (df['Close Price'] > df['lower_band']) and (df['Close Price'] < df['mid_band']):\n",
        "        return \"Hold Buy/Liquidate Short\"\n",
        "    elif (df['Close Price'] > df['mid_band']) and (df['Close Price'] < df['upper_band']):\n",
        "        return \"Hold Short/Liquidate Buy\"\n",
        "    else:\n",
        "        return \"Short\""
      ],
      "execution_count": 9,
      "outputs": []
    },
    {
      "cell_type": "code",
      "metadata": {
        "id": "fKsMppGbSKj5",
        "colab_type": "code",
        "colab": {
          "base_uri": "https://localhost:8080/",
          "height": 434
        },
        "outputId": "489c97c3-2561-47fe-c8e3-e7beb494cc96"
      },
      "source": [
        "df['Call'] = df.apply(call, axis = 1)\n",
        "df.head()"
      ],
      "execution_count": 10,
      "outputs": [
        {
          "output_type": "execute_result",
          "data": {
            "text/html": [
              "<div>\n",
              "<style scoped>\n",
              "    .dataframe tbody tr th:only-of-type {\n",
              "        vertical-align: middle;\n",
              "    }\n",
              "\n",
              "    .dataframe tbody tr th {\n",
              "        vertical-align: top;\n",
              "    }\n",
              "\n",
              "    .dataframe thead th {\n",
              "        text-align: right;\n",
              "    }\n",
              "</style>\n",
              "<table border=\"1\" class=\"dataframe\">\n",
              "  <thead>\n",
              "    <tr style=\"text-align: right;\">\n",
              "      <th></th>\n",
              "      <th>Symbol</th>\n",
              "      <th>Series</th>\n",
              "      <th>Date</th>\n",
              "      <th>Prev Close</th>\n",
              "      <th>Open Price</th>\n",
              "      <th>High Price</th>\n",
              "      <th>Low Price</th>\n",
              "      <th>Last Price</th>\n",
              "      <th>Close Price</th>\n",
              "      <th>Average Price</th>\n",
              "      <th>Total Traded Quantity</th>\n",
              "      <th>Turnover</th>\n",
              "      <th>No. of Trades</th>\n",
              "      <th>Deliverable Qty</th>\n",
              "      <th>% Dly Qt to Traded Qty</th>\n",
              "      <th>sma</th>\n",
              "      <th>rstd</th>\n",
              "      <th>upper_band</th>\n",
              "      <th>lower_band</th>\n",
              "      <th>mid_band</th>\n",
              "      <th>Call</th>\n",
              "    </tr>\n",
              "  </thead>\n",
              "  <tbody>\n",
              "    <tr>\n",
              "      <th>19</th>\n",
              "      <td>RELIANCE</td>\n",
              "      <td>EQ</td>\n",
              "      <td>09-Jun-2017</td>\n",
              "      <td>1331.70</td>\n",
              "      <td>1345.10</td>\n",
              "      <td>1352.95</td>\n",
              "      <td>1331.0</td>\n",
              "      <td>1332.95</td>\n",
              "      <td>1335.70</td>\n",
              "      <td>1340.93</td>\n",
              "      <td>3162802</td>\n",
              "      <td>4.241089e+09</td>\n",
              "      <td>78984</td>\n",
              "      <td>1333930</td>\n",
              "      <td>42.18</td>\n",
              "      <td>1331.2675</td>\n",
              "      <td>17.996668</td>\n",
              "      <td>1367.260837</td>\n",
              "      <td>1295.274163</td>\n",
              "      <td>1331.2675</td>\n",
              "      <td>Hold Short/Liquidate Buy</td>\n",
              "    </tr>\n",
              "    <tr>\n",
              "      <th>20</th>\n",
              "      <td>RELIANCE</td>\n",
              "      <td>EQ</td>\n",
              "      <td>12-Jun-2017</td>\n",
              "      <td>1335.70</td>\n",
              "      <td>1326.55</td>\n",
              "      <td>1329.75</td>\n",
              "      <td>1317.0</td>\n",
              "      <td>1319.00</td>\n",
              "      <td>1319.45</td>\n",
              "      <td>1321.07</td>\n",
              "      <td>1927513</td>\n",
              "      <td>2.546372e+09</td>\n",
              "      <td>44210</td>\n",
              "      <td>1194367</td>\n",
              "      <td>61.96</td>\n",
              "      <td>1330.0350</td>\n",
              "      <td>17.915475</td>\n",
              "      <td>1365.865950</td>\n",
              "      <td>1294.204050</td>\n",
              "      <td>1330.0350</td>\n",
              "      <td>Hold Buy/Liquidate Short</td>\n",
              "    </tr>\n",
              "    <tr>\n",
              "      <th>21</th>\n",
              "      <td>RELIANCE</td>\n",
              "      <td>EQ</td>\n",
              "      <td>13-Jun-2017</td>\n",
              "      <td>1319.45</td>\n",
              "      <td>1320.60</td>\n",
              "      <td>1327.00</td>\n",
              "      <td>1311.0</td>\n",
              "      <td>1312.00</td>\n",
              "      <td>1314.35</td>\n",
              "      <td>1318.87</td>\n",
              "      <td>1377291</td>\n",
              "      <td>1.816467e+09</td>\n",
              "      <td>63864</td>\n",
              "      <td>679324</td>\n",
              "      <td>49.32</td>\n",
              "      <td>1327.9375</td>\n",
              "      <td>17.116473</td>\n",
              "      <td>1362.170446</td>\n",
              "      <td>1293.704554</td>\n",
              "      <td>1327.9375</td>\n",
              "      <td>Hold Buy/Liquidate Short</td>\n",
              "    </tr>\n",
              "    <tr>\n",
              "      <th>22</th>\n",
              "      <td>RELIANCE</td>\n",
              "      <td>EQ</td>\n",
              "      <td>14-Jun-2017</td>\n",
              "      <td>1314.35</td>\n",
              "      <td>1315.90</td>\n",
              "      <td>1360.00</td>\n",
              "      <td>1315.9</td>\n",
              "      <td>1360.00</td>\n",
              "      <td>1357.50</td>\n",
              "      <td>1348.06</td>\n",
              "      <td>12101027</td>\n",
              "      <td>1.631296e+10</td>\n",
              "      <td>139964</td>\n",
              "      <td>7232727</td>\n",
              "      <td>59.77</td>\n",
              "      <td>1328.1575</td>\n",
              "      <td>17.481300</td>\n",
              "      <td>1363.120101</td>\n",
              "      <td>1293.194899</td>\n",
              "      <td>1328.1575</td>\n",
              "      <td>Hold Short/Liquidate Buy</td>\n",
              "    </tr>\n",
              "    <tr>\n",
              "      <th>23</th>\n",
              "      <td>RELIANCE</td>\n",
              "      <td>EQ</td>\n",
              "      <td>15-Jun-2017</td>\n",
              "      <td>1357.50</td>\n",
              "      <td>1360.00</td>\n",
              "      <td>1395.00</td>\n",
              "      <td>1359.1</td>\n",
              "      <td>1377.35</td>\n",
              "      <td>1383.95</td>\n",
              "      <td>1379.51</td>\n",
              "      <td>6466804</td>\n",
              "      <td>8.921028e+09</td>\n",
              "      <td>122808</td>\n",
              "      <td>2913028</td>\n",
              "      <td>45.05</td>\n",
              "      <td>1330.9875</td>\n",
              "      <td>21.470046</td>\n",
              "      <td>1373.927591</td>\n",
              "      <td>1288.047409</td>\n",
              "      <td>1330.9875</td>\n",
              "      <td>Short</td>\n",
              "    </tr>\n",
              "  </tbody>\n",
              "</table>\n",
              "</div>"
            ],
            "text/plain": [
              "      Symbol Series  ...   mid_band                      Call\n",
              "19  RELIANCE     EQ  ...  1331.2675  Hold Short/Liquidate Buy\n",
              "20  RELIANCE     EQ  ...  1330.0350  Hold Buy/Liquidate Short\n",
              "21  RELIANCE     EQ  ...  1327.9375  Hold Buy/Liquidate Short\n",
              "22  RELIANCE     EQ  ...  1328.1575  Hold Short/Liquidate Buy\n",
              "23  RELIANCE     EQ  ...  1330.9875                     Short\n",
              "\n",
              "[5 rows x 21 columns]"
            ]
          },
          "metadata": {
            "tags": []
          },
          "execution_count": 10
        }
      ]
    },
    {
      "cell_type": "markdown",
      "metadata": {
        "id": "3WuFCMQCSKkF",
        "colab_type": "text"
      },
      "source": [
        "Now train a classification model with the 3 bollinger columns and the stock price as inputs and 'Calls' as output. Check the accuracy on a test set. (There are many classifier models to choose from, try each one out and compare the accuracy for each)\n",
        "\n",
        "Import another stock data and create the bollinger columns. Using the already defined model, predict the daily calls for this new stock."
      ]
    },
    {
      "cell_type": "code",
      "metadata": {
        "id": "u0o9jD5-SKkG",
        "colab_type": "code",
        "colab": {}
      },
      "source": [
        "from sklearn.preprocessing import StandardScaler,LabelEncoder\n",
        "scr = StandardScaler()\n",
        "lbc = LabelEncoder()"
      ],
      "execution_count": 11,
      "outputs": []
    },
    {
      "cell_type": "code",
      "metadata": {
        "id": "sWQR6cPoSKkP",
        "colab_type": "code",
        "colab": {}
      },
      "source": [
        "x = df[['Close Price', 'lower_band', 'mid_band', 'upper_band']]\n",
        "x = scr.fit_transform(x)\n",
        "y = df['Call']\n",
        "y = lbc.fit_transform(y).reshape(-1, 1)"
      ],
      "execution_count": 12,
      "outputs": []
    },
    {
      "cell_type": "code",
      "metadata": {
        "id": "a6Wm-xzKSKkU",
        "colab_type": "code",
        "colab": {}
      },
      "source": [
        "from sklearn.model_selection import train_test_split\n",
        "\n",
        "X_train, X_test, Y_train, Y_test = train_test_split(x, y, test_size = 0.3, random_state = 7)"
      ],
      "execution_count": 13,
      "outputs": []
    },
    {
      "cell_type": "code",
      "metadata": {
        "id": "OnR-1zZPSKka",
        "colab_type": "code",
        "colab": {}
      },
      "source": [
        "from sklearn.neighbors import KNeighborsClassifier\n",
        "from sklearn.svm import SVC\n",
        "from sklearn.tree import DecisionTreeClassifier\n",
        "from sklearn.ensemble import RandomForestClassifier, AdaBoostClassifier\n",
        "from sklearn.naive_bayes import GaussianNB"
      ],
      "execution_count": 14,
      "outputs": []
    },
    {
      "cell_type": "code",
      "metadata": {
        "id": "mwSkTiz4SKkf",
        "colab_type": "code",
        "colab": {}
      },
      "source": [
        "max_features = y.max()"
      ],
      "execution_count": 15,
      "outputs": []
    },
    {
      "cell_type": "code",
      "metadata": {
        "id": "6gTey214SKkk",
        "colab_type": "code",
        "colab": {}
      },
      "source": [
        "from collections import OrderedDict"
      ],
      "execution_count": 16,
      "outputs": []
    },
    {
      "cell_type": "code",
      "metadata": {
        "id": "OnD3Hh4-SKkp",
        "colab_type": "code",
        "colab": {
          "base_uri": "https://localhost:8080/",
          "height": 585
        },
        "outputId": "5aeca299-f41d-4273-fbab-a9ce910db1de"
      },
      "source": [
        "classifier_models = OrderedDict([\n",
        "    (\"Nearest Neighbors\", KNeighborsClassifier(max_features)),\n",
        "    (\"Linear SVM\",        SVC(kernel=\"linear\", C=0.025)),\n",
        "    (\"RBF SVM\",           SVC(gamma=2, C=1)),\n",
        "    (\"Decision Tree\",     DecisionTreeClassifier(max_depth=5)),\n",
        "    (\"Random Forest\",     RandomForestClassifier(max_depth=5, n_estimators=10, max_features=max_features)),\n",
        "    (\"AdaBoost\",          AdaBoostClassifier()),\n",
        "    (\"Naive Bayes\",       GaussianNB())\n",
        "])\n",
        "\n",
        "classifier_models"
      ],
      "execution_count": 17,
      "outputs": [
        {
          "output_type": "execute_result",
          "data": {
            "text/plain": [
              "OrderedDict([('Nearest Neighbors',\n",
              "              KNeighborsClassifier(algorithm='auto', leaf_size=30, metric='minkowski',\n",
              "                                   metric_params=None, n_jobs=None, n_neighbors=3, p=2,\n",
              "                                   weights='uniform')),\n",
              "             ('Linear SVM',\n",
              "              SVC(C=0.025, break_ties=False, cache_size=200, class_weight=None, coef0=0.0,\n",
              "                  decision_function_shape='ovr', degree=3, gamma='scale', kernel='linear',\n",
              "                  max_iter=-1, probability=False, random_state=None, shrinking=True,\n",
              "                  tol=0.001, verbose=False)),\n",
              "             ('RBF SVM',\n",
              "              SVC(C=1, break_ties=False, cache_size=200, class_weight=None, coef0=0.0,\n",
              "                  decision_function_shape='ovr', degree=3, gamma=2, kernel='rbf', max_iter=-1,\n",
              "                  probability=False, random_state=None, shrinking=True, tol=0.001,\n",
              "                  verbose=False)),\n",
              "             ('Decision Tree',\n",
              "              DecisionTreeClassifier(ccp_alpha=0.0, class_weight=None, criterion='gini',\n",
              "                                     max_depth=5, max_features=None, max_leaf_nodes=None,\n",
              "                                     min_impurity_decrease=0.0, min_impurity_split=None,\n",
              "                                     min_samples_leaf=1, min_samples_split=2,\n",
              "                                     min_weight_fraction_leaf=0.0, presort='deprecated',\n",
              "                                     random_state=None, splitter='best')),\n",
              "             ('Random Forest',\n",
              "              RandomForestClassifier(bootstrap=True, ccp_alpha=0.0, class_weight=None,\n",
              "                                     criterion='gini', max_depth=5, max_features=3,\n",
              "                                     max_leaf_nodes=None, max_samples=None,\n",
              "                                     min_impurity_decrease=0.0, min_impurity_split=None,\n",
              "                                     min_samples_leaf=1, min_samples_split=2,\n",
              "                                     min_weight_fraction_leaf=0.0, n_estimators=10,\n",
              "                                     n_jobs=None, oob_score=False, random_state=None,\n",
              "                                     verbose=0, warm_start=False)),\n",
              "             ('AdaBoost',\n",
              "              AdaBoostClassifier(algorithm='SAMME.R', base_estimator=None, learning_rate=1.0,\n",
              "                                 n_estimators=50, random_state=None)),\n",
              "             ('Naive Bayes', GaussianNB(priors=None, var_smoothing=1e-09))])"
            ]
          },
          "metadata": {
            "tags": []
          },
          "execution_count": 17
        }
      ]
    },
    {
      "cell_type": "code",
      "metadata": {
        "id": "3LWq7yNsSKkw",
        "colab_type": "code",
        "colab": {
          "base_uri": "https://localhost:8080/",
          "height": 354
        },
        "outputId": "01e866a2-e47e-46d7-9ac2-86f6dfab602d"
      },
      "source": [
        "accuracy_scores = {}\n",
        "for model_name, classifier in classifier_models.items():\n",
        "    classifier.fit(X_train, Y_train)\n",
        "    y_pred = classifier.predict(X_test)\n",
        "    accuracy_scores[model_name] = classifier.score(X_test, Y_test)\n",
        "    \n",
        "accuracy_scores = OrderedDict(sorted(accuracy_scores.items(), key=lambda x: x[1]))\n",
        "accuracy_scores"
      ],
      "execution_count": 18,
      "outputs": [
        {
          "output_type": "stream",
          "text": [
            "/usr/local/lib/python3.6/dist-packages/ipykernel_launcher.py:3: DataConversionWarning: A column-vector y was passed when a 1d array was expected. Please change the shape of y to (n_samples, ), for example using ravel().\n",
            "  This is separate from the ipykernel package so we can avoid doing imports until\n",
            "/usr/local/lib/python3.6/dist-packages/sklearn/utils/validation.py:760: DataConversionWarning: A column-vector y was passed when a 1d array was expected. Please change the shape of y to (n_samples, ), for example using ravel().\n",
            "  y = column_or_1d(y, warn=True)\n",
            "/usr/local/lib/python3.6/dist-packages/sklearn/utils/validation.py:760: DataConversionWarning: A column-vector y was passed when a 1d array was expected. Please change the shape of y to (n_samples, ), for example using ravel().\n",
            "  y = column_or_1d(y, warn=True)\n",
            "/usr/local/lib/python3.6/dist-packages/ipykernel_launcher.py:3: DataConversionWarning: A column-vector y was passed when a 1d array was expected. Please change the shape of y to (n_samples,), for example using ravel().\n",
            "  This is separate from the ipykernel package so we can avoid doing imports until\n",
            "/usr/local/lib/python3.6/dist-packages/sklearn/utils/validation.py:760: DataConversionWarning: A column-vector y was passed when a 1d array was expected. Please change the shape of y to (n_samples, ), for example using ravel().\n",
            "  y = column_or_1d(y, warn=True)\n",
            "/usr/local/lib/python3.6/dist-packages/sklearn/naive_bayes.py:206: DataConversionWarning: A column-vector y was passed when a 1d array was expected. Please change the shape of y to (n_samples, ), for example using ravel().\n",
            "  y = column_or_1d(y, warn=True)\n"
          ],
          "name": "stderr"
        },
        {
          "output_type": "execute_result",
          "data": {
            "text/plain": [
              "OrderedDict([('Naive Bayes', 0.5174825174825175),\n",
              "             ('Linear SVM', 0.5454545454545454),\n",
              "             ('AdaBoost', 0.6713286713286714),\n",
              "             ('Random Forest', 0.6993006993006993),\n",
              "             ('Decision Tree', 0.7132867132867133),\n",
              "             ('RBF SVM', 0.7692307692307693),\n",
              "             ('Nearest Neighbors', 0.8041958041958042)])"
            ]
          },
          "metadata": {
            "tags": []
          },
          "execution_count": 18
        }
      ]
    },
    {
      "cell_type": "code",
      "metadata": {
        "id": "U4ZqArN7SKk2",
        "colab_type": "code",
        "colab": {}
      },
      "source": [
        "hero_df = pd.read_csv('HEROMOTOCO.csv', parse_dates=['Date'])\n",
        "hero_df.set_index('Date', drop=False, inplace=True)\n",
        "\n",
        "hero_df[\"sma\"] = hero_df[\"Close Price\"].rolling(20).mean()\n",
        "hero_df[\"std\"] = hero_df[\"Close Price\"].rolling(20).std()\n",
        "hero_df[\"upper_band\"] = hero_df[\"sma\"] + hero_df[\"std\"] * 2\n",
        "hero_df[\"lower_band\"] = hero_df[\"sma\"] - hero_df[\"std\"] * 2"
      ],
      "execution_count": 63,
      "outputs": []
    },
    {
      "cell_type": "code",
      "metadata": {
        "id": "mKTlKQz2SKk7",
        "colab_type": "code",
        "colab": {
          "base_uri": "https://localhost:8080/",
          "height": 351
        },
        "outputId": "70d2a073-4bf7-461a-ba7a-d00e9f6876ef"
      },
      "source": [
        "hero_df.isnull().sum()"
      ],
      "execution_count": 64,
      "outputs": [
        {
          "output_type": "execute_result",
          "data": {
            "text/plain": [
              "Symbol                     0\n",
              "Series                     0\n",
              "Date                       0\n",
              "Prev Close                 0\n",
              "Open Price                 0\n",
              "High Price                 0\n",
              "Low Price                  0\n",
              "Last Price                 0\n",
              "Close Price                0\n",
              "Average Price              0\n",
              "Total Traded Quantity      0\n",
              "Turnover                   0\n",
              "No. of Trades              0\n",
              "Deliverable Qty            0\n",
              "% Dly Qt to Traded Qty     0\n",
              "sma                       19\n",
              "std                       19\n",
              "upper_band                19\n",
              "lower_band                19\n",
              "dtype: int64"
            ]
          },
          "metadata": {
            "tags": []
          },
          "execution_count": 64
        }
      ]
    },
    {
      "cell_type": "code",
      "metadata": {
        "id": "CmfmcvR-XaSB",
        "colab_type": "code",
        "colab": {
          "base_uri": "https://localhost:8080/",
          "height": 452
        },
        "outputId": "f527ada0-1980-4196-d4f6-81170e8c708b"
      },
      "source": [
        "hero_df.info()"
      ],
      "execution_count": 65,
      "outputs": [
        {
          "output_type": "stream",
          "text": [
            "<class 'pandas.core.frame.DataFrame'>\n",
            "DatetimeIndex: 494 entries, 2017-05-15 to 2019-05-13\n",
            "Data columns (total 19 columns):\n",
            " #   Column                  Non-Null Count  Dtype         \n",
            "---  ------                  --------------  -----         \n",
            " 0   Symbol                  494 non-null    object        \n",
            " 1   Series                  494 non-null    object        \n",
            " 2   Date                    494 non-null    datetime64[ns]\n",
            " 3   Prev Close              494 non-null    float64       \n",
            " 4   Open Price              494 non-null    float64       \n",
            " 5   High Price              494 non-null    float64       \n",
            " 6   Low Price               494 non-null    float64       \n",
            " 7   Last Price              494 non-null    float64       \n",
            " 8   Close Price             494 non-null    float64       \n",
            " 9   Average Price           494 non-null    float64       \n",
            " 10  Total Traded Quantity   494 non-null    int64         \n",
            " 11  Turnover                494 non-null    float64       \n",
            " 12  No. of Trades           494 non-null    int64         \n",
            " 13  Deliverable Qty         494 non-null    int64         \n",
            " 14  % Dly Qt to Traded Qty  494 non-null    float64       \n",
            " 15  sma                     475 non-null    float64       \n",
            " 16  std                     475 non-null    float64       \n",
            " 17  upper_band              475 non-null    float64       \n",
            " 18  lower_band              475 non-null    float64       \n",
            "dtypes: datetime64[ns](1), float64(13), int64(3), object(2)\n",
            "memory usage: 77.2+ KB\n"
          ],
          "name": "stdout"
        }
      ]
    },
    {
      "cell_type": "code",
      "metadata": {
        "id": "PoQtWsbhSKlB",
        "colab_type": "code",
        "colab": {}
      },
      "source": [
        "hero_df   = hero_df.dropna()\n",
        "hero_X = scr.fit_transform(hero_df[['Close Price', 'std', 'upper_band', 'lower_band']])\n",
        "\n",
        "hero_df['Call'] = classifier_models[\"Nearest Neighbors\"].predict(hero_X)\n",
        "\n",
        "\n",
        "hero_df.to_csv('hero_trained.csv')"
      ],
      "execution_count": 66,
      "outputs": []
    },
    {
      "cell_type": "code",
      "metadata": {
        "id": "fmxFGbqCSKlF",
        "colab_type": "code",
        "colab": {
          "base_uri": "https://localhost:8080/",
          "height": 397
        },
        "outputId": "7b98449f-5593-4500-984b-1f85f57d48da"
      },
      "source": [
        "print(\"hero_df['Call'].unique() =\", hero_df['Call'].unique())\n",
        "hero_df.head()"
      ],
      "execution_count": 67,
      "outputs": [
        {
          "output_type": "stream",
          "text": [
            "hero_df['Call'].unique() = [2 1 3]\n"
          ],
          "name": "stdout"
        },
        {
          "output_type": "execute_result",
          "data": {
            "text/html": [
              "<div>\n",
              "<style scoped>\n",
              "    .dataframe tbody tr th:only-of-type {\n",
              "        vertical-align: middle;\n",
              "    }\n",
              "\n",
              "    .dataframe tbody tr th {\n",
              "        vertical-align: top;\n",
              "    }\n",
              "\n",
              "    .dataframe thead th {\n",
              "        text-align: right;\n",
              "    }\n",
              "</style>\n",
              "<table border=\"1\" class=\"dataframe\">\n",
              "  <thead>\n",
              "    <tr style=\"text-align: right;\">\n",
              "      <th></th>\n",
              "      <th>Symbol</th>\n",
              "      <th>Series</th>\n",
              "      <th>Date</th>\n",
              "      <th>Prev Close</th>\n",
              "      <th>Open Price</th>\n",
              "      <th>High Price</th>\n",
              "      <th>Low Price</th>\n",
              "      <th>Last Price</th>\n",
              "      <th>Close Price</th>\n",
              "      <th>Average Price</th>\n",
              "      <th>Total Traded Quantity</th>\n",
              "      <th>Turnover</th>\n",
              "      <th>No. of Trades</th>\n",
              "      <th>Deliverable Qty</th>\n",
              "      <th>% Dly Qt to Traded Qty</th>\n",
              "      <th>sma</th>\n",
              "      <th>std</th>\n",
              "      <th>upper_band</th>\n",
              "      <th>lower_band</th>\n",
              "      <th>Call</th>\n",
              "    </tr>\n",
              "    <tr>\n",
              "      <th>Date</th>\n",
              "      <th></th>\n",
              "      <th></th>\n",
              "      <th></th>\n",
              "      <th></th>\n",
              "      <th></th>\n",
              "      <th></th>\n",
              "      <th></th>\n",
              "      <th></th>\n",
              "      <th></th>\n",
              "      <th></th>\n",
              "      <th></th>\n",
              "      <th></th>\n",
              "      <th></th>\n",
              "      <th></th>\n",
              "      <th></th>\n",
              "      <th></th>\n",
              "      <th></th>\n",
              "      <th></th>\n",
              "      <th></th>\n",
              "      <th></th>\n",
              "    </tr>\n",
              "  </thead>\n",
              "  <tbody>\n",
              "    <tr>\n",
              "      <th>2017-06-09</th>\n",
              "      <td>HEROMOTOCO</td>\n",
              "      <td>EQ</td>\n",
              "      <td>2017-06-09</td>\n",
              "      <td>3784.45</td>\n",
              "      <td>3796.3</td>\n",
              "      <td>3800.50</td>\n",
              "      <td>3755.60</td>\n",
              "      <td>3786.00</td>\n",
              "      <td>3780.10</td>\n",
              "      <td>3779.46</td>\n",
              "      <td>302560</td>\n",
              "      <td>1.143514e+09</td>\n",
              "      <td>19861</td>\n",
              "      <td>198672</td>\n",
              "      <td>65.66</td>\n",
              "      <td>3684.0600</td>\n",
              "      <td>107.366537</td>\n",
              "      <td>3898.793074</td>\n",
              "      <td>3469.326926</td>\n",
              "      <td>2</td>\n",
              "    </tr>\n",
              "    <tr>\n",
              "      <th>2017-06-12</th>\n",
              "      <td>HEROMOTOCO</td>\n",
              "      <td>EQ</td>\n",
              "      <td>2017-06-12</td>\n",
              "      <td>3780.10</td>\n",
              "      <td>3777.0</td>\n",
              "      <td>3790.00</td>\n",
              "      <td>3760.35</td>\n",
              "      <td>3771.05</td>\n",
              "      <td>3773.25</td>\n",
              "      <td>3779.97</td>\n",
              "      <td>182605</td>\n",
              "      <td>6.902422e+08</td>\n",
              "      <td>17760</td>\n",
              "      <td>117935</td>\n",
              "      <td>64.58</td>\n",
              "      <td>3696.9500</td>\n",
              "      <td>101.366032</td>\n",
              "      <td>3899.682063</td>\n",
              "      <td>3494.217937</td>\n",
              "      <td>2</td>\n",
              "    </tr>\n",
              "    <tr>\n",
              "      <th>2017-06-13</th>\n",
              "      <td>HEROMOTOCO</td>\n",
              "      <td>EQ</td>\n",
              "      <td>2017-06-13</td>\n",
              "      <td>3773.25</td>\n",
              "      <td>3780.0</td>\n",
              "      <td>3785.35</td>\n",
              "      <td>3742.25</td>\n",
              "      <td>3751.00</td>\n",
              "      <td>3752.50</td>\n",
              "      <td>3765.91</td>\n",
              "      <td>212476</td>\n",
              "      <td>8.001665e+08</td>\n",
              "      <td>16843</td>\n",
              "      <td>128289</td>\n",
              "      <td>60.38</td>\n",
              "      <td>3703.6050</td>\n",
              "      <td>100.370995</td>\n",
              "      <td>3904.346989</td>\n",
              "      <td>3502.863011</td>\n",
              "      <td>2</td>\n",
              "    </tr>\n",
              "    <tr>\n",
              "      <th>2017-06-14</th>\n",
              "      <td>HEROMOTOCO</td>\n",
              "      <td>EQ</td>\n",
              "      <td>2017-06-14</td>\n",
              "      <td>3752.50</td>\n",
              "      <td>3764.0</td>\n",
              "      <td>3808.00</td>\n",
              "      <td>3751.05</td>\n",
              "      <td>3781.30</td>\n",
              "      <td>3789.05</td>\n",
              "      <td>3788.77</td>\n",
              "      <td>374661</td>\n",
              "      <td>1.419506e+09</td>\n",
              "      <td>39825</td>\n",
              "      <td>260012</td>\n",
              "      <td>69.40</td>\n",
              "      <td>3710.7600</td>\n",
              "      <td>101.142230</td>\n",
              "      <td>3913.044460</td>\n",
              "      <td>3508.475540</td>\n",
              "      <td>2</td>\n",
              "    </tr>\n",
              "    <tr>\n",
              "      <th>2017-06-15</th>\n",
              "      <td>HEROMOTOCO</td>\n",
              "      <td>EQ</td>\n",
              "      <td>2017-06-15</td>\n",
              "      <td>3789.05</td>\n",
              "      <td>3786.0</td>\n",
              "      <td>3820.00</td>\n",
              "      <td>3760.00</td>\n",
              "      <td>3774.00</td>\n",
              "      <td>3777.70</td>\n",
              "      <td>3785.08</td>\n",
              "      <td>163019</td>\n",
              "      <td>6.170397e+08</td>\n",
              "      <td>14888</td>\n",
              "      <td>94856</td>\n",
              "      <td>58.19</td>\n",
              "      <td>3720.0425</td>\n",
              "      <td>98.148884</td>\n",
              "      <td>3916.340269</td>\n",
              "      <td>3523.744731</td>\n",
              "      <td>2</td>\n",
              "    </tr>\n",
              "  </tbody>\n",
              "</table>\n",
              "</div>"
            ],
            "text/plain": [
              "                Symbol Series       Date  ...   upper_band   lower_band  Call\n",
              "Date                                      ...                                \n",
              "2017-06-09  HEROMOTOCO     EQ 2017-06-09  ...  3898.793074  3469.326926     2\n",
              "2017-06-12  HEROMOTOCO     EQ 2017-06-12  ...  3899.682063  3494.217937     2\n",
              "2017-06-13  HEROMOTOCO     EQ 2017-06-13  ...  3904.346989  3502.863011     2\n",
              "2017-06-14  HEROMOTOCO     EQ 2017-06-14  ...  3913.044460  3508.475540     2\n",
              "2017-06-15  HEROMOTOCO     EQ 2017-06-15  ...  3916.340269  3523.744731     2\n",
              "\n",
              "[5 rows x 20 columns]"
            ]
          },
          "metadata": {
            "tags": []
          },
          "execution_count": 67
        }
      ]
    },
    {
      "cell_type": "code",
      "metadata": {
        "id": "uodqjhNVSKlT",
        "colab_type": "code",
        "colab": {
          "base_uri": "https://localhost:8080/",
          "height": 487
        },
        "outputId": "5d400468-dd6d-46fe-f3d8-52a77bec19dc"
      },
      "source": [
        "fig = plt.figure(figsize=(20,10))\n",
        "ax1 = plt.gca()\n",
        "ax2 = ax1.twinx()\n",
        "\n",
        "\n",
        "hero_df.plot(kind='line',x='Date', y='Close Price', ax=ax1, color='black')\n",
        "hero_df.plot(kind='line',x='Date', y='sma', ax=ax1, color='blue', linestyle='--')\n",
        "hero_df.plot(kind='line',x='Date', y='upper_band', ax=ax1, color='red',  linestyle='--')\n",
        "hero_df.plot(kind='line',x='Date', y='lower_band', ax=ax1, color='red',  linestyle='--')\n",
        "ax2.plot(hero_df['Call'])"
      ],
      "execution_count": 70,
      "outputs": [
        {
          "output_type": "execute_result",
          "data": {
            "text/plain": [
              "[<matplotlib.lines.Line2D at 0x7f08de716e10>]"
            ]
          },
          "metadata": {
            "tags": []
          },
          "execution_count": 70
        },
        {
          "output_type": "display_data",
          "data": {
            "image/png": "[encoded data removed]",
            "text/plain": [
              "<Figure size 1440x720 with 2 Axes>"
            ]
          },
          "metadata": {
            "tags": [],
            "needs_background": "light"
          }
        }
      ]
    },
    {
      "cell_type": "markdown",
      "metadata": {
        "id": "SPKCBuRxSKlY",
        "colab_type": "text"
      },
      "source": [
        "## Problem 4.2 \n",
        "\n",
        "Now, we'll again utilize classification to make a trade call, and measure the efficiency of our trading algorithm over the past two years. For this assignment , we will use RandomForest classifier.\n",
        "\n",
        "\n",
        "Import the stock data file of your choice"
      ]
    },
    {
      "cell_type": "code",
      "metadata": {
        "id": "sjgU4ZqTSKlY",
        "colab_type": "code",
        "colab": {
          "base_uri": "https://localhost:8080/",
          "height": 464
        },
        "outputId": "b83ad8ba-6c03-40e8-b5dd-3ee27b4fb616"
      },
      "source": [
        "maruthi_df = pd.read_csv('MARUTI.csv').set_index('Date')\n",
        "\n",
        "maruthi_df.head()"
      ],
      "execution_count": 27,
      "outputs": [
        {
          "output_type": "execute_result",
          "data": {
            "text/html": [
              "<div>\n",
              "<style scoped>\n",
              "    .dataframe tbody tr th:only-of-type {\n",
              "        vertical-align: middle;\n",
              "    }\n",
              "\n",
              "    .dataframe tbody tr th {\n",
              "        vertical-align: top;\n",
              "    }\n",
              "\n",
              "    .dataframe thead th {\n",
              "        text-align: right;\n",
              "    }\n",
              "</style>\n",
              "<table border=\"1\" class=\"dataframe\">\n",
              "  <thead>\n",
              "    <tr style=\"text-align: right;\">\n",
              "      <th></th>\n",
              "      <th>Symbol</th>\n",
              "      <th>Series</th>\n",
              "      <th>Prev Close</th>\n",
              "      <th>Open Price</th>\n",
              "      <th>High Price</th>\n",
              "      <th>Low Price</th>\n",
              "      <th>Last Price</th>\n",
              "      <th>Close Price</th>\n",
              "      <th>Average Price</th>\n",
              "      <th>Total Traded Quantity</th>\n",
              "      <th>Turnover</th>\n",
              "      <th>No. of Trades</th>\n",
              "      <th>Deliverable Qty</th>\n",
              "      <th>% Dly Qt to Traded Qty</th>\n",
              "    </tr>\n",
              "    <tr>\n",
              "      <th>Date</th>\n",
              "      <th></th>\n",
              "      <th></th>\n",
              "      <th></th>\n",
              "      <th></th>\n",
              "      <th></th>\n",
              "      <th></th>\n",
              "      <th></th>\n",
              "      <th></th>\n",
              "      <th></th>\n",
              "      <th></th>\n",
              "      <th></th>\n",
              "      <th></th>\n",
              "      <th></th>\n",
              "      <th></th>\n",
              "    </tr>\n",
              "  </thead>\n",
              "  <tbody>\n",
              "    <tr>\n",
              "      <th>15-May-2017</th>\n",
              "      <td>MARUTI</td>\n",
              "      <td>EQ</td>\n",
              "      <td>6730.20</td>\n",
              "      <td>6759.4</td>\n",
              "      <td>6839.10</td>\n",
              "      <td>6733.45</td>\n",
              "      <td>6824.0</td>\n",
              "      <td>6823.90</td>\n",
              "      <td>6796.84</td>\n",
              "      <td>336356</td>\n",
              "      <td>2.286158e+09</td>\n",
              "      <td>31377</td>\n",
              "      <td>154743</td>\n",
              "      <td>46.01</td>\n",
              "    </tr>\n",
              "    <tr>\n",
              "      <th>16-May-2017</th>\n",
              "      <td>MARUTI</td>\n",
              "      <td>EQ</td>\n",
              "      <td>6823.90</td>\n",
              "      <td>6850.0</td>\n",
              "      <td>6977.55</td>\n",
              "      <td>6830.00</td>\n",
              "      <td>6968.4</td>\n",
              "      <td>6953.95</td>\n",
              "      <td>6902.22</td>\n",
              "      <td>707624</td>\n",
              "      <td>4.884174e+09</td>\n",
              "      <td>49047</td>\n",
              "      <td>360641</td>\n",
              "      <td>50.97</td>\n",
              "    </tr>\n",
              "    <tr>\n",
              "      <th>17-May-2017</th>\n",
              "      <td>MARUTI</td>\n",
              "      <td>EQ</td>\n",
              "      <td>6953.95</td>\n",
              "      <td>6950.0</td>\n",
              "      <td>6979.00</td>\n",
              "      <td>6885.85</td>\n",
              "      <td>6945.0</td>\n",
              "      <td>6958.20</td>\n",
              "      <td>6931.60</td>\n",
              "      <td>445461</td>\n",
              "      <td>3.087758e+09</td>\n",
              "      <td>65280</td>\n",
              "      <td>260033</td>\n",
              "      <td>58.37</td>\n",
              "    </tr>\n",
              "    <tr>\n",
              "      <th>18-May-2017</th>\n",
              "      <td>MARUTI</td>\n",
              "      <td>EQ</td>\n",
              "      <td>6958.20</td>\n",
              "      <td>6918.3</td>\n",
              "      <td>6948.00</td>\n",
              "      <td>6814.45</td>\n",
              "      <td>6822.0</td>\n",
              "      <td>6831.05</td>\n",
              "      <td>6869.68</td>\n",
              "      <td>406814</td>\n",
              "      <td>2.794684e+09</td>\n",
              "      <td>37063</td>\n",
              "      <td>188907</td>\n",
              "      <td>46.44</td>\n",
              "    </tr>\n",
              "    <tr>\n",
              "      <th>19-May-2017</th>\n",
              "      <td>MARUTI</td>\n",
              "      <td>EQ</td>\n",
              "      <td>6831.05</td>\n",
              "      <td>6854.8</td>\n",
              "      <td>6893.90</td>\n",
              "      <td>6691.55</td>\n",
              "      <td>6756.3</td>\n",
              "      <td>6790.55</td>\n",
              "      <td>6791.60</td>\n",
              "      <td>552223</td>\n",
              "      <td>3.750475e+09</td>\n",
              "      <td>64293</td>\n",
              "      <td>234662</td>\n",
              "      <td>42.49</td>\n",
              "    </tr>\n",
              "  </tbody>\n",
              "</table>\n",
              "</div>"
            ],
            "text/plain": [
              "             Symbol Series  ...  Deliverable Qty  % Dly Qt to Traded Qty\n",
              "Date                        ...                                         \n",
              "15-May-2017  MARUTI     EQ  ...           154743                   46.01\n",
              "16-May-2017  MARUTI     EQ  ...           360641                   50.97\n",
              "17-May-2017  MARUTI     EQ  ...           260033                   58.37\n",
              "18-May-2017  MARUTI     EQ  ...           188907                   46.44\n",
              "19-May-2017  MARUTI     EQ  ...           234662                   42.49\n",
              "\n",
              "[5 rows x 14 columns]"
            ]
          },
          "metadata": {
            "tags": []
          },
          "execution_count": 27
        }
      ]
    },
    {
      "cell_type": "code",
      "metadata": {
        "id": "57EiUfB7SKld",
        "colab_type": "code",
        "colab": {
          "base_uri": "https://localhost:8080/",
          "height": 33
        },
        "outputId": "ec1b9ccd-11a6-47d5-cd84-14bd5d199b46"
      },
      "source": [
        "maruthi_df.shape"
      ],
      "execution_count": 28,
      "outputs": [
        {
          "output_type": "execute_result",
          "data": {
            "text/plain": [
              "(496, 14)"
            ]
          },
          "metadata": {
            "tags": []
          },
          "execution_count": 28
        }
      ]
    },
    {
      "cell_type": "code",
      "metadata": {
        "id": "GT1BSAAlSKli",
        "colab_type": "code",
        "colab": {
          "base_uri": "https://localhost:8080/",
          "height": 268
        },
        "outputId": "3ec6be9c-5d85-4fa6-ea98-2154cce13f08"
      },
      "source": [
        "maruthi_df.isnull().sum()"
      ],
      "execution_count": 29,
      "outputs": [
        {
          "output_type": "execute_result",
          "data": {
            "text/plain": [
              "Symbol                    0\n",
              "Series                    0\n",
              "Prev Close                0\n",
              "Open Price                0\n",
              "High Price                0\n",
              "Low Price                 0\n",
              "Last Price                0\n",
              "Close Price               0\n",
              "Average Price             0\n",
              "Total Traded Quantity     0\n",
              "Turnover                  0\n",
              "No. of Trades             0\n",
              "Deliverable Qty           0\n",
              "% Dly Qt to Traded Qty    0\n",
              "dtype: int64"
            ]
          },
          "metadata": {
            "tags": []
          },
          "execution_count": 29
        }
      ]
    },
    {
      "cell_type": "markdown",
      "metadata": {
        "id": "y6UHj4XJSKln",
        "colab_type": "text"
      },
      "source": [
        "Define 4 new columns , whose values are:\n",
        "* % change between Open and Close price for the day\n",
        "* % change between Low and High price for the day\n",
        "* 5 day rolling mean of the day to day % change in Close Price\n",
        "* 5 day rolling std of the day to day % change in Close Price"
      ]
    },
    {
      "cell_type": "code",
      "metadata": {
        "id": "hccHIM16SKlo",
        "colab_type": "code",
        "colab": {
          "base_uri": "https://localhost:8080/",
          "height": 464
        },
        "outputId": "22c6417c-9cb2-4692-e2e5-6e08a6d1c490"
      },
      "source": [
        "maruthi_df['price_Open_Close'] = (maruthi_df['Close Price'] - maruthi_df['Open Price']) / maruthi_df['Open Price']\n",
        "maruthi_df['price_High_Low'] = (maruthi_df['High Price']  - maruthi_df['Low Price']) / maruthi_df['Low Price']\n",
        "\n",
        "maruthi_df['Day_Perc_Change'] = maruthi_df['Close Price'].pct_change().fillna(0)\n",
        "\n",
        "maruthi_df['5day_mean'] = maruthi_df['Day_Perc_Change'].rolling(5).mean()\n",
        "maruthi_df['5day_std'] = maruthi_df['Day_Perc_Change'].rolling(5).std()\n",
        "\n",
        "maruthi_df.dropna(inplace=True)\n",
        "\n",
        "maruthi_df.head()"
      ],
      "execution_count": 30,
      "outputs": [
        {
          "output_type": "execute_result",
          "data": {
            "text/html": [
              "<div>\n",
              "<style scoped>\n",
              "    .dataframe tbody tr th:only-of-type {\n",
              "        vertical-align: middle;\n",
              "    }\n",
              "\n",
              "    .dataframe tbody tr th {\n",
              "        vertical-align: top;\n",
              "    }\n",
              "\n",
              "    .dataframe thead th {\n",
              "        text-align: right;\n",
              "    }\n",
              "</style>\n",
              "<table border=\"1\" class=\"dataframe\">\n",
              "  <thead>\n",
              "    <tr style=\"text-align: right;\">\n",
              "      <th></th>\n",
              "      <th>Symbol</th>\n",
              "      <th>Series</th>\n",
              "      <th>Prev Close</th>\n",
              "      <th>Open Price</th>\n",
              "      <th>High Price</th>\n",
              "      <th>Low Price</th>\n",
              "      <th>Last Price</th>\n",
              "      <th>Close Price</th>\n",
              "      <th>Average Price</th>\n",
              "      <th>Total Traded Quantity</th>\n",
              "      <th>Turnover</th>\n",
              "      <th>No. of Trades</th>\n",
              "      <th>Deliverable Qty</th>\n",
              "      <th>% Dly Qt to Traded Qty</th>\n",
              "      <th>price_Open_Close</th>\n",
              "      <th>price_High_Low</th>\n",
              "      <th>Day_Perc_Change</th>\n",
              "      <th>5day_mean</th>\n",
              "      <th>5day_std</th>\n",
              "    </tr>\n",
              "    <tr>\n",
              "      <th>Date</th>\n",
              "      <th></th>\n",
              "      <th></th>\n",
              "      <th></th>\n",
              "      <th></th>\n",
              "      <th></th>\n",
              "      <th></th>\n",
              "      <th></th>\n",
              "      <th></th>\n",
              "      <th></th>\n",
              "      <th></th>\n",
              "      <th></th>\n",
              "      <th></th>\n",
              "      <th></th>\n",
              "      <th></th>\n",
              "      <th></th>\n",
              "      <th></th>\n",
              "      <th></th>\n",
              "      <th></th>\n",
              "      <th></th>\n",
              "    </tr>\n",
              "  </thead>\n",
              "  <tbody>\n",
              "    <tr>\n",
              "      <th>19-May-2017</th>\n",
              "      <td>MARUTI</td>\n",
              "      <td>EQ</td>\n",
              "      <td>6831.05</td>\n",
              "      <td>6854.80</td>\n",
              "      <td>6893.90</td>\n",
              "      <td>6691.55</td>\n",
              "      <td>6756.30</td>\n",
              "      <td>6790.55</td>\n",
              "      <td>6791.60</td>\n",
              "      <td>552223</td>\n",
              "      <td>3.750475e+09</td>\n",
              "      <td>64293</td>\n",
              "      <td>234662</td>\n",
              "      <td>42.49</td>\n",
              "      <td>-0.009373</td>\n",
              "      <td>0.030240</td>\n",
              "      <td>-0.005929</td>\n",
              "      <td>-0.000907</td>\n",
              "      <td>0.013496</td>\n",
              "    </tr>\n",
              "    <tr>\n",
              "      <th>22-May-2017</th>\n",
              "      <td>MARUTI</td>\n",
              "      <td>EQ</td>\n",
              "      <td>6790.55</td>\n",
              "      <td>6803.95</td>\n",
              "      <td>6843.95</td>\n",
              "      <td>6689.25</td>\n",
              "      <td>6694.30</td>\n",
              "      <td>6701.70</td>\n",
              "      <td>6732.22</td>\n",
              "      <td>327493</td>\n",
              "      <td>2.204756e+09</td>\n",
              "      <td>36146</td>\n",
              "      <td>158645</td>\n",
              "      <td>48.44</td>\n",
              "      <td>-0.015028</td>\n",
              "      <td>0.023127</td>\n",
              "      <td>-0.013084</td>\n",
              "      <td>-0.003523</td>\n",
              "      <td>0.014507</td>\n",
              "    </tr>\n",
              "    <tr>\n",
              "      <th>23-May-2017</th>\n",
              "      <td>MARUTI</td>\n",
              "      <td>EQ</td>\n",
              "      <td>6701.70</td>\n",
              "      <td>6765.00</td>\n",
              "      <td>6910.00</td>\n",
              "      <td>6743.65</td>\n",
              "      <td>6867.95</td>\n",
              "      <td>6878.85</td>\n",
              "      <td>6855.36</td>\n",
              "      <td>956457</td>\n",
              "      <td>6.556860e+09</td>\n",
              "      <td>98981</td>\n",
              "      <td>414258</td>\n",
              "      <td>43.31</td>\n",
              "      <td>0.016829</td>\n",
              "      <td>0.024668</td>\n",
              "      <td>0.026434</td>\n",
              "      <td>-0.002048</td>\n",
              "      <td>0.017453</td>\n",
              "    </tr>\n",
              "    <tr>\n",
              "      <th>24-May-2017</th>\n",
              "      <td>MARUTI</td>\n",
              "      <td>EQ</td>\n",
              "      <td>6878.85</td>\n",
              "      <td>6903.00</td>\n",
              "      <td>6912.55</td>\n",
              "      <td>6813.00</td>\n",
              "      <td>6865.00</td>\n",
              "      <td>6869.65</td>\n",
              "      <td>6863.75</td>\n",
              "      <td>433647</td>\n",
              "      <td>2.976444e+09</td>\n",
              "      <td>48950</td>\n",
              "      <td>191595</td>\n",
              "      <td>44.18</td>\n",
              "      <td>-0.004831</td>\n",
              "      <td>0.014612</td>\n",
              "      <td>-0.001337</td>\n",
              "      <td>-0.002438</td>\n",
              "      <td>0.017400</td>\n",
              "    </tr>\n",
              "    <tr>\n",
              "      <th>25-May-2017</th>\n",
              "      <td>MARUTI</td>\n",
              "      <td>EQ</td>\n",
              "      <td>6869.65</td>\n",
              "      <td>6879.95</td>\n",
              "      <td>7018.00</td>\n",
              "      <td>6835.00</td>\n",
              "      <td>6970.00</td>\n",
              "      <td>6985.70</td>\n",
              "      <td>6916.65</td>\n",
              "      <td>435721</td>\n",
              "      <td>3.013730e+09</td>\n",
              "      <td>44648</td>\n",
              "      <td>177404</td>\n",
              "      <td>40.72</td>\n",
              "      <td>0.015371</td>\n",
              "      <td>0.026774</td>\n",
              "      <td>0.016893</td>\n",
              "      <td>0.004595</td>\n",
              "      <td>0.016482</td>\n",
              "    </tr>\n",
              "  </tbody>\n",
              "</table>\n",
              "</div>"
            ],
            "text/plain": [
              "             Symbol Series  Prev Close  ...  Day_Perc_Change  5day_mean  5day_std\n",
              "Date                                    ...                                      \n",
              "19-May-2017  MARUTI     EQ     6831.05  ...        -0.005929  -0.000907  0.013496\n",
              "22-May-2017  MARUTI     EQ     6790.55  ...        -0.013084  -0.003523  0.014507\n",
              "23-May-2017  MARUTI     EQ     6701.70  ...         0.026434  -0.002048  0.017453\n",
              "24-May-2017  MARUTI     EQ     6878.85  ...        -0.001337  -0.002438  0.017400\n",
              "25-May-2017  MARUTI     EQ     6869.65  ...         0.016893   0.004595  0.016482\n",
              "\n",
              "[5 rows x 19 columns]"
            ]
          },
          "metadata": {
            "tags": []
          },
          "execution_count": 30
        }
      ]
    },
    {
      "cell_type": "markdown",
      "metadata": {
        "id": "IzaBmJXeSKlt",
        "colab_type": "text"
      },
      "source": [
        "Create a new column 'Action' whose values are:\n",
        "\n",
        "* 1 if next day's price(Close) is greater than present day's.\n",
        "* (-1) if next day's price(Close) is less than present day's.\n",
        "* i.e. Action [ i ] = 1 if Close[ i+1 ] > Close[ i ]\n",
        "* i.e. Action [ i ] = (-1) if Close[ i+1 ] < Close[ i ]"
      ]
    },
    {
      "cell_type": "code",
      "metadata": {
        "id": "Hqk4QAg8SKlu",
        "colab_type": "code",
        "colab": {
          "base_uri": "https://localhost:8080/",
          "height": 464
        },
        "outputId": "c7386fe1-e7a2-40c3-fa52-fb5aab1995e6"
      },
      "source": [
        "maruthi_df['Action'] = np.where(maruthi_df['Close Price'].shift(-1) > maruthi_df['Close Price'], 1, -1 )\n",
        "\n",
        "maruthi_df.head()"
      ],
      "execution_count": 31,
      "outputs": [
        {
          "output_type": "execute_result",
          "data": {
            "text/html": [
              "<div>\n",
              "<style scoped>\n",
              "    .dataframe tbody tr th:only-of-type {\n",
              "        vertical-align: middle;\n",
              "    }\n",
              "\n",
              "    .dataframe tbody tr th {\n",
              "        vertical-align: top;\n",
              "    }\n",
              "\n",
              "    .dataframe thead th {\n",
              "        text-align: right;\n",
              "    }\n",
              "</style>\n",
              "<table border=\"1\" class=\"dataframe\">\n",
              "  <thead>\n",
              "    <tr style=\"text-align: right;\">\n",
              "      <th></th>\n",
              "      <th>Symbol</th>\n",
              "      <th>Series</th>\n",
              "      <th>Prev Close</th>\n",
              "      <th>Open Price</th>\n",
              "      <th>High Price</th>\n",
              "      <th>Low Price</th>\n",
              "      <th>Last Price</th>\n",
              "      <th>Close Price</th>\n",
              "      <th>Average Price</th>\n",
              "      <th>Total Traded Quantity</th>\n",
              "      <th>Turnover</th>\n",
              "      <th>No. of Trades</th>\n",
              "      <th>Deliverable Qty</th>\n",
              "      <th>% Dly Qt to Traded Qty</th>\n",
              "      <th>price_Open_Close</th>\n",
              "      <th>price_High_Low</th>\n",
              "      <th>Day_Perc_Change</th>\n",
              "      <th>5day_mean</th>\n",
              "      <th>5day_std</th>\n",
              "      <th>Action</th>\n",
              "    </tr>\n",
              "    <tr>\n",
              "      <th>Date</th>\n",
              "      <th></th>\n",
              "      <th></th>\n",
              "      <th></th>\n",
              "      <th></th>\n",
              "      <th></th>\n",
              "      <th></th>\n",
              "      <th></th>\n",
              "      <th></th>\n",
              "      <th></th>\n",
              "      <th></th>\n",
              "      <th></th>\n",
              "      <th></th>\n",
              "      <th></th>\n",
              "      <th></th>\n",
              "      <th></th>\n",
              "      <th></th>\n",
              "      <th></th>\n",
              "      <th></th>\n",
              "      <th></th>\n",
              "      <th></th>\n",
              "    </tr>\n",
              "  </thead>\n",
              "  <tbody>\n",
              "    <tr>\n",
              "      <th>19-May-2017</th>\n",
              "      <td>MARUTI</td>\n",
              "      <td>EQ</td>\n",
              "      <td>6831.05</td>\n",
              "      <td>6854.80</td>\n",
              "      <td>6893.90</td>\n",
              "      <td>6691.55</td>\n",
              "      <td>6756.30</td>\n",
              "      <td>6790.55</td>\n",
              "      <td>6791.60</td>\n",
              "      <td>552223</td>\n",
              "      <td>3.750475e+09</td>\n",
              "      <td>64293</td>\n",
              "      <td>234662</td>\n",
              "      <td>42.49</td>\n",
              "      <td>-0.009373</td>\n",
              "      <td>0.030240</td>\n",
              "      <td>-0.005929</td>\n",
              "      <td>-0.000907</td>\n",
              "      <td>0.013496</td>\n",
              "      <td>-1</td>\n",
              "    </tr>\n",
              "    <tr>\n",
              "      <th>22-May-2017</th>\n",
              "      <td>MARUTI</td>\n",
              "      <td>EQ</td>\n",
              "      <td>6790.55</td>\n",
              "      <td>6803.95</td>\n",
              "      <td>6843.95</td>\n",
              "      <td>6689.25</td>\n",
              "      <td>6694.30</td>\n",
              "      <td>6701.70</td>\n",
              "      <td>6732.22</td>\n",
              "      <td>327493</td>\n",
              "      <td>2.204756e+09</td>\n",
              "      <td>36146</td>\n",
              "      <td>158645</td>\n",
              "      <td>48.44</td>\n",
              "      <td>-0.015028</td>\n",
              "      <td>0.023127</td>\n",
              "      <td>-0.013084</td>\n",
              "      <td>-0.003523</td>\n",
              "      <td>0.014507</td>\n",
              "      <td>1</td>\n",
              "    </tr>\n",
              "    <tr>\n",
              "      <th>23-May-2017</th>\n",
              "      <td>MARUTI</td>\n",
              "      <td>EQ</td>\n",
              "      <td>6701.70</td>\n",
              "      <td>6765.00</td>\n",
              "      <td>6910.00</td>\n",
              "      <td>6743.65</td>\n",
              "      <td>6867.95</td>\n",
              "      <td>6878.85</td>\n",
              "      <td>6855.36</td>\n",
              "      <td>956457</td>\n",
              "      <td>6.556860e+09</td>\n",
              "      <td>98981</td>\n",
              "      <td>414258</td>\n",
              "      <td>43.31</td>\n",
              "      <td>0.016829</td>\n",
              "      <td>0.024668</td>\n",
              "      <td>0.026434</td>\n",
              "      <td>-0.002048</td>\n",
              "      <td>0.017453</td>\n",
              "      <td>-1</td>\n",
              "    </tr>\n",
              "    <tr>\n",
              "      <th>24-May-2017</th>\n",
              "      <td>MARUTI</td>\n",
              "      <td>EQ</td>\n",
              "      <td>6878.85</td>\n",
              "      <td>6903.00</td>\n",
              "      <td>6912.55</td>\n",
              "      <td>6813.00</td>\n",
              "      <td>6865.00</td>\n",
              "      <td>6869.65</td>\n",
              "      <td>6863.75</td>\n",
              "      <td>433647</td>\n",
              "      <td>2.976444e+09</td>\n",
              "      <td>48950</td>\n",
              "      <td>191595</td>\n",
              "      <td>44.18</td>\n",
              "      <td>-0.004831</td>\n",
              "      <td>0.014612</td>\n",
              "      <td>-0.001337</td>\n",
              "      <td>-0.002438</td>\n",
              "      <td>0.017400</td>\n",
              "      <td>1</td>\n",
              "    </tr>\n",
              "    <tr>\n",
              "      <th>25-May-2017</th>\n",
              "      <td>MARUTI</td>\n",
              "      <td>EQ</td>\n",
              "      <td>6869.65</td>\n",
              "      <td>6879.95</td>\n",
              "      <td>7018.00</td>\n",
              "      <td>6835.00</td>\n",
              "      <td>6970.00</td>\n",
              "      <td>6985.70</td>\n",
              "      <td>6916.65</td>\n",
              "      <td>435721</td>\n",
              "      <td>3.013730e+09</td>\n",
              "      <td>44648</td>\n",
              "      <td>177404</td>\n",
              "      <td>40.72</td>\n",
              "      <td>0.015371</td>\n",
              "      <td>0.026774</td>\n",
              "      <td>0.016893</td>\n",
              "      <td>0.004595</td>\n",
              "      <td>0.016482</td>\n",
              "      <td>1</td>\n",
              "    </tr>\n",
              "  </tbody>\n",
              "</table>\n",
              "</div>"
            ],
            "text/plain": [
              "             Symbol Series  Prev Close  ...  5day_mean  5day_std  Action\n",
              "Date                                    ...                             \n",
              "19-May-2017  MARUTI     EQ     6831.05  ...  -0.000907  0.013496      -1\n",
              "22-May-2017  MARUTI     EQ     6790.55  ...  -0.003523  0.014507       1\n",
              "23-May-2017  MARUTI     EQ     6701.70  ...  -0.002048  0.017453      -1\n",
              "24-May-2017  MARUTI     EQ     6878.85  ...  -0.002438  0.017400       1\n",
              "25-May-2017  MARUTI     EQ     6869.65  ...   0.004595  0.016482       1\n",
              "\n",
              "[5 rows x 20 columns]"
            ]
          },
          "metadata": {
            "tags": []
          },
          "execution_count": 31
        }
      ]
    },
    {
      "cell_type": "code",
      "metadata": {
        "id": "8E3nepbOSKl1",
        "colab_type": "code",
        "colab": {}
      },
      "source": [
        "maruthi_df.to_csv('maruthi_trained.csv')"
      ],
      "execution_count": 32,
      "outputs": []
    },
    {
      "cell_type": "markdown",
      "metadata": {
        "id": "y5ShWUZzSKl5",
        "colab_type": "text"
      },
      "source": [
        "Construct a classification model with the 4 new inputs and 'Action' as target"
      ]
    },
    {
      "cell_type": "code",
      "metadata": {
        "id": "NcEOHJV3SKl6",
        "colab_type": "code",
        "colab": {
          "base_uri": "https://localhost:8080/",
          "height": 468
        },
        "outputId": "2984a7d7-899a-4f3a-fa9c-fe16c0b315f4"
      },
      "source": [
        "maruthi_df.info()"
      ],
      "execution_count": 33,
      "outputs": [
        {
          "output_type": "stream",
          "text": [
            "<class 'pandas.core.frame.DataFrame'>\n",
            "Index: 492 entries, 19-May-2017 to 13-May-2019\n",
            "Data columns (total 20 columns):\n",
            " #   Column                  Non-Null Count  Dtype  \n",
            "---  ------                  --------------  -----  \n",
            " 0   Symbol                  492 non-null    object \n",
            " 1   Series                  492 non-null    object \n",
            " 2   Prev Close              492 non-null    float64\n",
            " 3   Open Price              492 non-null    float64\n",
            " 4   High Price              492 non-null    float64\n",
            " 5   Low Price               492 non-null    float64\n",
            " 6   Last Price              492 non-null    float64\n",
            " 7   Close Price             492 non-null    float64\n",
            " 8   Average Price           492 non-null    float64\n",
            " 9   Total Traded Quantity   492 non-null    int64  \n",
            " 10  Turnover                492 non-null    float64\n",
            " 11  No. of Trades           492 non-null    int64  \n",
            " 12  Deliverable Qty         492 non-null    int64  \n",
            " 13  % Dly Qt to Traded Qty  492 non-null    float64\n",
            " 14  price_Open_Close        492 non-null    float64\n",
            " 15  price_High_Low          492 non-null    float64\n",
            " 16  Day_Perc_Change         492 non-null    float64\n",
            " 17  5day_mean               492 non-null    float64\n",
            " 18  5day_std                492 non-null    float64\n",
            " 19  Action                  492 non-null    int64  \n",
            "dtypes: float64(14), int64(4), object(2)\n",
            "memory usage: 80.7+ KB\n"
          ],
          "name": "stdout"
        }
      ]
    },
    {
      "cell_type": "code",
      "metadata": {
        "scrolled": false,
        "id": "Qb_yfUnaSKl_",
        "colab_type": "code",
        "colab": {
          "base_uri": "https://localhost:8080/",
          "height": 368
        },
        "outputId": "903ef90e-7ba7-4542-d971-4a25f1eba99c"
      },
      "source": [
        "maruthi_df.isnull().sum()"
      ],
      "execution_count": 34,
      "outputs": [
        {
          "output_type": "execute_result",
          "data": {
            "text/plain": [
              "Symbol                    0\n",
              "Series                    0\n",
              "Prev Close                0\n",
              "Open Price                0\n",
              "High Price                0\n",
              "Low Price                 0\n",
              "Last Price                0\n",
              "Close Price               0\n",
              "Average Price             0\n",
              "Total Traded Quantity     0\n",
              "Turnover                  0\n",
              "No. of Trades             0\n",
              "Deliverable Qty           0\n",
              "% Dly Qt to Traded Qty    0\n",
              "price_Open_Close          0\n",
              "price_High_Low            0\n",
              "Day_Perc_Change           0\n",
              "5day_mean                 0\n",
              "5day_std                  0\n",
              "Action                    0\n",
              "dtype: int64"
            ]
          },
          "metadata": {
            "tags": []
          },
          "execution_count": 34
        }
      ]
    },
    {
      "cell_type": "code",
      "metadata": {
        "id": "pVEJyRMZSKmD",
        "colab_type": "code",
        "colab": {
          "base_uri": "https://localhost:8080/",
          "height": 150
        },
        "outputId": "b45da78b-83b5-4c48-ab9b-16882b3e95f0"
      },
      "source": [
        "maruthi_df.dropna(inplace=True)\n",
        "X = maruthi_df[['price_Open_Close', 'price_High_Low', '5day_mean', '5day_std']]\n",
        "Y = maruthi_df['Action']\n",
        "\n",
        "\n",
        "X = StandardScaler().fit_transform(X)\n",
        "\n",
        "X_train, X_test, Y_train, Y_test = train_test_split(X, Y, test_size=0.33, random_state=42)\n",
        "\n",
        "\n",
        "rfc = RandomForestClassifier(n_estimators=100, max_features=2)\n",
        "rfc"
      ],
      "execution_count": 35,
      "outputs": [
        {
          "output_type": "execute_result",
          "data": {
            "text/plain": [
              "RandomForestClassifier(bootstrap=True, ccp_alpha=0.0, class_weight=None,\n",
              "                       criterion='gini', max_depth=None, max_features=2,\n",
              "                       max_leaf_nodes=None, max_samples=None,\n",
              "                       min_impurity_decrease=0.0, min_impurity_split=None,\n",
              "                       min_samples_leaf=1, min_samples_split=2,\n",
              "                       min_weight_fraction_leaf=0.0, n_estimators=100,\n",
              "                       n_jobs=None, oob_score=False, random_state=None,\n",
              "                       verbose=0, warm_start=False)"
            ]
          },
          "metadata": {
            "tags": []
          },
          "execution_count": 35
        }
      ]
    },
    {
      "cell_type": "code",
      "metadata": {
        "id": "DHjyJFqRSKmM",
        "colab_type": "code",
        "colab": {
          "base_uri": "https://localhost:8080/",
          "height": 33
        },
        "outputId": "c0276e44-cd2c-4fd1-827b-3d2f95c24847"
      },
      "source": [
        "rfc.fit(X_train,  Y_train)\n",
        "rfc.score(X_test, Y_test)"
      ],
      "execution_count": 36,
      "outputs": [
        {
          "output_type": "execute_result",
          "data": {
            "text/plain": [
              "0.5276073619631901"
            ]
          },
          "metadata": {
            "tags": []
          },
          "execution_count": 36
        }
      ]
    },
    {
      "cell_type": "markdown",
      "metadata": {
        "id": "lFR-jLt6SKmQ",
        "colab_type": "text"
      },
      "source": [
        "Check the accuracy of this model , also , plot the net cumulative returns (in %) if we were to follow this algorithmic model\n"
      ]
    },
    {
      "cell_type": "code",
      "metadata": {
        "id": "jtgwxIc8SKmR",
        "colab_type": "code",
        "colab": {
          "base_uri": "https://localhost:8080/",
          "height": 323
        },
        "outputId": "db36d916-0e0e-4883-98f3-3699be358e68"
      },
      "source": [
        "# Cumulative Product of PCT change in Close_Price with predicted actions\n",
        "plt.figure(figsize=(25, 7))\n",
        "\n",
        "cumulative_returns = ( 1 + (maruthi_df['Close Price'].pct_change() * maruthi_df['Action']) ).dropna().cumprod()\n",
        "cumulative_returns.plot()"
      ],
      "execution_count": 37,
      "outputs": [
        {
          "output_type": "execute_result",
          "data": {
            "text/plain": [
              "<matplotlib.axes._subplots.AxesSubplot at 0x7f08e0b75940>"
            ]
          },
          "metadata": {
            "tags": []
          },
          "execution_count": 37
        },
        {
          "output_type": "display_data",
          "data": {
            "image/png": "[encoded data removed]",
            "text/plain": [
              "<Figure size 1800x504 with 1 Axes>"
            ]
          },
          "metadata": {
            "tags": [],
            "needs_background": "light"
          }
        }
      ]
    }
  ]
}