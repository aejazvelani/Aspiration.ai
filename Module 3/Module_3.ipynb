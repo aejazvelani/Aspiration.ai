{
  "nbformat": 4,
  "nbformat_minor": 0,
  "metadata": {
    "kernelspec": {
      "display_name": "Python 3",
      "language": "python",
      "name": "python3"
    },
    "language_info": {
      "codemirror_mode": {
        "name": "ipython",
        "version": 3
      },
      "file_extension": ".py",
      "mimetype": "text/x-python",
      "name": "python",
      "nbconvert_exporter": "python",
      "pygments_lexer": "ipython3",
      "version": "3.7.3"
    },
    "colab": {
      "name": "Module3_ITC.ipynb",
      "provenance": [],
      "toc_visible": true
    }
  },
  "cells": [
    {
      "cell_type": "markdown",
      "metadata": {
        "id": "5fvd5liw78kI",
        "colab_type": "text"
      },
      "source": [
        "# Fundamental analysis using Regression\n"
      ]
    },
    {
      "cell_type": "markdown",
      "metadata": {
        "id": "ePomCxkD78kK",
        "colab_type": "text"
      },
      "source": [
        "This module would introduce us to the Regression related inferences to be drawn from the data.\n",
        "\n",
        "Regression is basically a statistical approach to find the relationship between variables. \n",
        "\n",
        "In machine learning, this is used to predict the outcome of an event based on the relationship between variables obtained from the data-set. More often than not, we utilize linear regression to come up with an ideal inference.\n",
        "\n",
        "We'd be using the regression model to solve the following problems:"
      ]
    },
    {
      "cell_type": "markdown",
      "metadata": {
        "id": "lUuwsil578kL",
        "colab_type": "text"
      },
      "source": [
        "## Problem Statements\n"
      ]
    },
    {
      "cell_type": "markdown",
      "metadata": {
        "id": "F04COSts78kM",
        "colab_type": "text"
      },
      "source": [
        "### Problem 3.1 \n",
        "Import the file `'gold.csv'` (you will find this in the intro section to download or in '/Data/gold.csv' if you are using the jupyter notebook), which contains the data of the last 2 years price action of Indian (MCX) gold standard. Explore the dataframe. You'd see 2 unique columns - 'Pred' and 'new'. One of the 2 columns is a linear combination of the OHLC prices with varying coefficients while the other is a polynomial function of the same inputs. Also, one of the 2 columns is partially filled.\n",
        "\n",
        "* Using linear regression, find the coefficients of the inputs and using the same trained model, complete the entire column.\n",
        "* Also, try to fit the other column as well using a new linear regression model. Check if the predictions are accurate. Mention which column is a linear function and which is polynomial.\n",
        "\n",
        "(**`Hint`**: Plotting a histogram & distplot helps in recognizing the discrepencies in prediction, if any.)\n",
        "\n",
        "**CAPM** CAPM Analysis and Beta Calculation using regression -\n",
        "\n",
        "CAPM(Capital Asset Pricing Model) attempts to price securities by examining the relationship that exists between expected returns and risk.\n",
        "\n",
        "Read more about CAPM. ([Investopedia CAPM reference](https://www.investopedia.com/terms/c/capm.asp))\n",
        "\n",
        "The Beta of an asset is a measure of the sensitivity of its returns relative to a market benchmark (usually a market index). How sensitive/insensitive is the returns of an asset to the overall market returns (usually a market index like S&P 500 index). What happens when the market jumps, does the returns of the asset jump accordingly or jump somehow?\n",
        "\n",
        "Read more about Beta ([Investopedia Beta reference](https://www.investopedia.com/investing/beta-know-risk/))"
      ]
    },
    {
      "cell_type": "code",
      "metadata": {
        "id": "ayL5Su_A78kQ",
        "colab_type": "code",
        "colab": {
          "base_uri": "https://localhost:8080/",
          "height": 70
        },
        "outputId": "928290de-dc0d-4add-ed22-0ae6a8eb04d9"
      },
      "source": [
        "import pandas as pd\n",
        "import matplotlib.pyplot as plt\n",
        "import seaborn as sns"
      ],
      "execution_count": 1,
      "outputs": [
        {
          "output_type": "stream",
          "text": [
            "/usr/local/lib/python3.6/dist-packages/statsmodels/tools/_testing.py:19: FutureWarning: pandas.util.testing is deprecated. Use the functions in the public API at pandas.testing instead.\n",
            "  import pandas.util.testing as tm\n"
          ],
          "name": "stderr"
        }
      ]
    },
    {
      "cell_type": "code",
      "metadata": {
        "id": "t-ZG_Ylm78kX",
        "colab_type": "code",
        "colab": {
          "base_uri": "https://localhost:8080/",
          "height": 196
        },
        "outputId": "25e873dd-2e72-4528-96ee-1eb7c86a1417"
      },
      "source": [
        "gold_df = pd.read_csv('GOLD.csv')\n",
        "gold_df.head()"
      ],
      "execution_count": 2,
      "outputs": [
        {
          "output_type": "execute_result",
          "data": {
            "text/html": [
              "<div>\n",
              "<style scoped>\n",
              "    .dataframe tbody tr th:only-of-type {\n",
              "        vertical-align: middle;\n",
              "    }\n",
              "\n",
              "    .dataframe tbody tr th {\n",
              "        vertical-align: top;\n",
              "    }\n",
              "\n",
              "    .dataframe thead th {\n",
              "        text-align: right;\n",
              "    }\n",
              "</style>\n",
              "<table border=\"1\" class=\"dataframe\">\n",
              "  <thead>\n",
              "    <tr style=\"text-align: right;\">\n",
              "      <th></th>\n",
              "      <th>Date</th>\n",
              "      <th>Price</th>\n",
              "      <th>Open</th>\n",
              "      <th>High</th>\n",
              "      <th>Low</th>\n",
              "      <th>Vol.</th>\n",
              "      <th>Change %</th>\n",
              "      <th>Pred</th>\n",
              "      <th>new</th>\n",
              "    </tr>\n",
              "  </thead>\n",
              "  <tbody>\n",
              "    <tr>\n",
              "      <th>0</th>\n",
              "      <td>May 04, 2017</td>\n",
              "      <td>28060</td>\n",
              "      <td>28400</td>\n",
              "      <td>28482</td>\n",
              "      <td>28025</td>\n",
              "      <td>0.08K</td>\n",
              "      <td>-1.79%</td>\n",
              "      <td>738.0</td>\n",
              "      <td>117.570740</td>\n",
              "    </tr>\n",
              "    <tr>\n",
              "      <th>1</th>\n",
              "      <td>May 05, 2017</td>\n",
              "      <td>28184</td>\n",
              "      <td>28136</td>\n",
              "      <td>28382</td>\n",
              "      <td>28135</td>\n",
              "      <td>0.06K</td>\n",
              "      <td>0.44%</td>\n",
              "      <td>-146.0</td>\n",
              "      <td>295.430176</td>\n",
              "    </tr>\n",
              "    <tr>\n",
              "      <th>2</th>\n",
              "      <td>May 08, 2017</td>\n",
              "      <td>28119</td>\n",
              "      <td>28145</td>\n",
              "      <td>28255</td>\n",
              "      <td>28097</td>\n",
              "      <td>7.85K</td>\n",
              "      <td>-0.23%</td>\n",
              "      <td>30.0</td>\n",
              "      <td>132.123714</td>\n",
              "    </tr>\n",
              "    <tr>\n",
              "      <th>3</th>\n",
              "      <td>May 09, 2017</td>\n",
              "      <td>27981</td>\n",
              "      <td>28125</td>\n",
              "      <td>28192</td>\n",
              "      <td>27947</td>\n",
              "      <td>10.10K</td>\n",
              "      <td>-0.49%</td>\n",
              "      <td>357.0</td>\n",
              "      <td>101.298064</td>\n",
              "    </tr>\n",
              "    <tr>\n",
              "      <th>4</th>\n",
              "      <td>May 10, 2017</td>\n",
              "      <td>28007</td>\n",
              "      <td>28060</td>\n",
              "      <td>28146</td>\n",
              "      <td>27981</td>\n",
              "      <td>9.28K</td>\n",
              "      <td>0.09%</td>\n",
              "      <td>124.0</td>\n",
              "      <td>112.153318</td>\n",
              "    </tr>\n",
              "  </tbody>\n",
              "</table>\n",
              "</div>"
            ],
            "text/plain": [
              "           Date  Price   Open   High    Low    Vol. Change %   Pred         new\n",
              "0  May 04, 2017  28060  28400  28482  28025   0.08K   -1.79%  738.0  117.570740\n",
              "1  May 05, 2017  28184  28136  28382  28135   0.06K    0.44% -146.0  295.430176\n",
              "2  May 08, 2017  28119  28145  28255  28097   7.85K   -0.23%   30.0  132.123714\n",
              "3  May 09, 2017  27981  28125  28192  27947  10.10K   -0.49%  357.0  101.298064\n",
              "4  May 10, 2017  28007  28060  28146  27981   9.28K    0.09%  124.0  112.153318"
            ]
          },
          "metadata": {
            "tags": []
          },
          "execution_count": 2
        }
      ]
    },
    {
      "cell_type": "code",
      "metadata": {
        "id": "55Uh1TXl78kf",
        "colab_type": "code",
        "colab": {
          "base_uri": "https://localhost:8080/",
          "height": 33
        },
        "outputId": "771d9483-ff1c-4e4d-f5ae-7ca6620d74d6"
      },
      "source": [
        "gold_df.shape"
      ],
      "execution_count": 3,
      "outputs": [
        {
          "output_type": "execute_result",
          "data": {
            "text/plain": [
              "(512, 9)"
            ]
          },
          "metadata": {
            "tags": []
          },
          "execution_count": 3
        }
      ]
    },
    {
      "cell_type": "code",
      "metadata": {
        "id": "_qLn-2Fg78kl",
        "colab_type": "code",
        "colab": {
          "base_uri": "https://localhost:8080/",
          "height": 284
        },
        "outputId": "5bdcf7aa-d554-4d1d-e78d-2f37479bce5e"
      },
      "source": [
        "gold_df.info()"
      ],
      "execution_count": 4,
      "outputs": [
        {
          "output_type": "stream",
          "text": [
            "<class 'pandas.core.frame.DataFrame'>\n",
            "RangeIndex: 512 entries, 0 to 511\n",
            "Data columns (total 9 columns):\n",
            " #   Column    Non-Null Count  Dtype  \n",
            "---  ------    --------------  -----  \n",
            " 0   Date      512 non-null    object \n",
            " 1   Price     512 non-null    int64  \n",
            " 2   Open      512 non-null    int64  \n",
            " 3   High      512 non-null    int64  \n",
            " 4   Low       512 non-null    int64  \n",
            " 5   Vol.      512 non-null    object \n",
            " 6   Change %  512 non-null    object \n",
            " 7   Pred      411 non-null    float64\n",
            " 8   new       512 non-null    float64\n",
            "dtypes: float64(2), int64(4), object(3)\n",
            "memory usage: 36.1+ KB\n"
          ],
          "name": "stdout"
        }
      ]
    },
    {
      "cell_type": "code",
      "metadata": {
        "id": "9rX7Oj6c78kq",
        "colab_type": "code",
        "colab": {
          "base_uri": "https://localhost:8080/",
          "height": 284
        },
        "outputId": "ec89791a-fa01-44dd-8fde-15e28ddcc76a"
      },
      "source": [
        "df = gold_df.dropna()\n",
        "df.info()"
      ],
      "execution_count": 5,
      "outputs": [
        {
          "output_type": "stream",
          "text": [
            "<class 'pandas.core.frame.DataFrame'>\n",
            "Int64Index: 411 entries, 0 to 410\n",
            "Data columns (total 9 columns):\n",
            " #   Column    Non-Null Count  Dtype  \n",
            "---  ------    --------------  -----  \n",
            " 0   Date      411 non-null    object \n",
            " 1   Price     411 non-null    int64  \n",
            " 2   Open      411 non-null    int64  \n",
            " 3   High      411 non-null    int64  \n",
            " 4   Low       411 non-null    int64  \n",
            " 5   Vol.      411 non-null    object \n",
            " 6   Change %  411 non-null    object \n",
            " 7   Pred      411 non-null    float64\n",
            " 8   new       411 non-null    float64\n",
            "dtypes: float64(2), int64(4), object(3)\n",
            "memory usage: 32.1+ KB\n"
          ],
          "name": "stdout"
        }
      ]
    },
    {
      "cell_type": "code",
      "metadata": {
        "id": "2mbIm_d978kx",
        "colab_type": "code",
        "colab": {}
      },
      "source": [
        "X = df['new'].values\n",
        "Y = df['Pred'].values"
      ],
      "execution_count": 6,
      "outputs": []
    },
    {
      "cell_type": "code",
      "metadata": {
        "id": "o_r5I-1s78k3",
        "colab_type": "code",
        "colab": {
          "base_uri": "https://localhost:8080/",
          "height": 295
        },
        "outputId": "5a5d1f3b-ed50-4d1d-d571-ae5ce41ebc76"
      },
      "source": [
        "plt.scatter(X, Y)\n",
        "plt.xlabel('New')\n",
        "plt.ylabel('Pred')\n",
        "plt.title('New vs Pred')\n",
        "plt.show()"
      ],
      "execution_count": 7,
      "outputs": [
        {
          "output_type": "display_data",
          "data": {
            "image/png": "[encoded data removed]",
            "text/plain": [
              "<Figure size 432x288 with 1 Axes>"
            ]
          },
          "metadata": {
            "tags": [],
            "needs_background": "light"
          }
        }
      ]
    },
    {
      "cell_type": "code",
      "metadata": {
        "id": "Zx2zIv8n78k9",
        "colab_type": "code",
        "colab": {}
      },
      "source": [
        "X = X.reshape(-1, 1)\n",
        "Y = Y.reshape(-1, 1)"
      ],
      "execution_count": 8,
      "outputs": []
    },
    {
      "cell_type": "code",
      "metadata": {
        "id": "n7maOpDu78lD",
        "colab_type": "code",
        "colab": {}
      },
      "source": [
        "from sklearn.linear_model import LinearRegression\n",
        "from sklearn.metrics import mean_squared_error, r2_score"
      ],
      "execution_count": 9,
      "outputs": []
    },
    {
      "cell_type": "code",
      "metadata": {
        "id": "T_yKI2up78lI",
        "colab_type": "code",
        "colab": {}
      },
      "source": [
        "lr = LinearRegression()\n",
        "\n",
        "lr.fit(X, Y)\n",
        "\n",
        "Y_pred = lr.predict(X)"
      ],
      "execution_count": 10,
      "outputs": []
    },
    {
      "cell_type": "code",
      "metadata": {
        "id": "ki_ZooRL78lN",
        "colab_type": "code",
        "colab": {
          "base_uri": "https://localhost:8080/",
          "height": 50
        },
        "outputId": "a32e8469-67d7-4e1e-e6d4-45849f06a1a8"
      },
      "source": [
        "# Model Evaluation Metrics\n",
        "\n",
        "rmse = mean_squared_error(Y, Y_pred)\n",
        "\n",
        "r2 = r2_score(Y, Y_pred)\n",
        "\n",
        "print(\"Mean Squared Error of the Model is:\", rmse)\n",
        "print('R^2 Score of the Model is:', r2)"
      ],
      "execution_count": 11,
      "outputs": [
        {
          "output_type": "stream",
          "text": [
            "Mean Squared Error of the Model is: 73300.46132887459\n",
            "R^2 Score of the Model is: 3.732507600850976e-05\n"
          ],
          "name": "stdout"
        }
      ]
    },
    {
      "cell_type": "code",
      "metadata": {
        "id": "KO3jWdlJ78lT",
        "colab_type": "code",
        "colab": {
          "base_uri": "https://localhost:8080/",
          "height": 369
        },
        "outputId": "c95110e5-2c3a-448e-d93a-28c714dea0e4"
      },
      "source": [
        "plt.figure(figsize=(20,7))\n",
        "plt.scatter(X, Y, label = 'New vs Pred')\n",
        "plt.plot(X, Y_pred, 'r', label = 'Regression Line')\n",
        "plt.xlabel('New')\n",
        "plt.ylabel('Pred')\n",
        "plt.legend()\n",
        "plt.show()"
      ],
      "execution_count": 12,
      "outputs": [
        {
          "output_type": "display_data",
          "data": {
            "image/png": "[encoded data removed]",
            "text/plain": [
              "<Figure size 1440x504 with 1 Axes>"
            ]
          },
          "metadata": {
            "tags": [],
            "needs_background": "light"
          }
        }
      ]
    },
    {
      "cell_type": "code",
      "metadata": {
        "id": "6L09o1PI78lY",
        "colab_type": "code",
        "colab": {
          "base_uri": "https://localhost:8080/",
          "height": 120
        },
        "outputId": "2e7747cf-6225-4849-ae79-892ffc2b25b3"
      },
      "source": [
        "import numpy as np\n",
        "result = gold_df.copy()\n",
        "\n",
        "y_req = result['new'][411:512].values.reshape(-1, 1)\n",
        "r = lr.predict(y_req).ravel()\n",
        "result['Pred'][411:512] = list(r)"
      ],
      "execution_count": 13,
      "outputs": [
        {
          "output_type": "stream",
          "text": [
            "/usr/local/lib/python3.6/dist-packages/ipykernel_launcher.py:6: SettingWithCopyWarning: \n",
            "A value is trying to be set on a copy of a slice from a DataFrame\n",
            "\n",
            "See the caveats in the documentation: https://pandas.pydata.org/pandas-docs/stable/user_guide/indexing.html#returning-a-view-versus-a-copy\n",
            "  \n"
          ],
          "name": "stderr"
        }
      ]
    },
    {
      "cell_type": "code",
      "metadata": {
        "id": "-lFy7KLB78lc",
        "colab_type": "code",
        "colab": {
          "base_uri": "https://localhost:8080/",
          "height": 284
        },
        "outputId": "1b82a052-180a-43e2-ce95-3cf24e07c4cd"
      },
      "source": [
        "result.info()"
      ],
      "execution_count": 14,
      "outputs": [
        {
          "output_type": "stream",
          "text": [
            "<class 'pandas.core.frame.DataFrame'>\n",
            "RangeIndex: 512 entries, 0 to 511\n",
            "Data columns (total 9 columns):\n",
            " #   Column    Non-Null Count  Dtype  \n",
            "---  ------    --------------  -----  \n",
            " 0   Date      512 non-null    object \n",
            " 1   Price     512 non-null    int64  \n",
            " 2   Open      512 non-null    int64  \n",
            " 3   High      512 non-null    int64  \n",
            " 4   Low       512 non-null    int64  \n",
            " 5   Vol.      512 non-null    object \n",
            " 6   Change %  512 non-null    object \n",
            " 7   Pred      512 non-null    float64\n",
            " 8   new       512 non-null    float64\n",
            "dtypes: float64(2), int64(4), object(3)\n",
            "memory usage: 36.1+ KB\n"
          ],
          "name": "stdout"
        }
      ]
    },
    {
      "cell_type": "code",
      "metadata": {
        "id": "REojzW-Y78lh",
        "colab_type": "code",
        "colab": {
          "base_uri": "https://localhost:8080/",
          "height": 386
        },
        "outputId": "aa38d455-add6-43bf-e15a-75b1aba08c67"
      },
      "source": [
        "plt.figure(figsize=(20,7))\n",
        "sns.distplot(result['Pred'])\n",
        "plt.title('Dist Plot')\n",
        "plt.show()"
      ],
      "execution_count": 15,
      "outputs": [
        {
          "output_type": "display_data",
          "data": {
            "image/png": "[encoded data removed]",
            "text/plain": [
              "<Figure size 1440x504 with 1 Axes>"
            ]
          },
          "metadata": {
            "tags": [],
            "needs_background": "light"
          }
        }
      ]
    },
    {
      "cell_type": "markdown",
      "metadata": {
        "id": "j_Py_ZDF78lm",
        "colab_type": "text"
      },
      "source": [
        "### Problem 3.2 \n",
        "Import the stock of your choosing AND the Nifty index.\n",
        "Using linear regression (OLS), calculate -\n",
        "* The daily Beta value for the past 3 months. (Daily= Daily returns)\n",
        "* The monthly Beta value. (Monthly= Monthly returns)\n",
        "\n",
        "Refrain from using the (covariance(x,y)/variance(x)) formula.\n",
        "\n",
        "Attempt the question using regression.([Regression Reference](https://financetrain.com/calculating-beta-using-market-model-regression-slope/))\n",
        "\n",
        "Were the Beta values more or less than 1 ? What if it was negative ?\n",
        "\n",
        "Discuss. Include a brief writeup in the bottom of your jupyter notebook with your inferences from the Beta values and regression results"
      ]
    },
    {
      "cell_type": "code",
      "metadata": {
        "id": "Z3CnZtmR78ln",
        "colab_type": "code",
        "colab": {
          "base_uri": "https://localhost:8080/",
          "height": 380
        },
        "outputId": "edd26b1a-42fe-4b10-983c-9b0b882a4c1e"
      },
      "source": [
        "gail_df = pd.read_csv('GAIL.csv')\n",
        "gail_df['Date'] = pd.to_datetime(gail_df['Date'])\n",
        "gail_df = gail_df.sort_values('Date')\n",
        "gail_df.set_index('Date', inplace=True)\n",
        "gail_df.head()"
      ],
      "execution_count": 16,
      "outputs": [
        {
          "output_type": "execute_result",
          "data": {
            "text/html": [
              "<div>\n",
              "<style scoped>\n",
              "    .dataframe tbody tr th:only-of-type {\n",
              "        vertical-align: middle;\n",
              "    }\n",
              "\n",
              "    .dataframe tbody tr th {\n",
              "        vertical-align: top;\n",
              "    }\n",
              "\n",
              "    .dataframe thead th {\n",
              "        text-align: right;\n",
              "    }\n",
              "</style>\n",
              "<table border=\"1\" class=\"dataframe\">\n",
              "  <thead>\n",
              "    <tr style=\"text-align: right;\">\n",
              "      <th></th>\n",
              "      <th>Symbol</th>\n",
              "      <th>Series</th>\n",
              "      <th>Prev Close</th>\n",
              "      <th>Open Price</th>\n",
              "      <th>High Price</th>\n",
              "      <th>Low Price</th>\n",
              "      <th>Last Price</th>\n",
              "      <th>Close Price</th>\n",
              "      <th>Average Price</th>\n",
              "      <th>Total Traded Quantity</th>\n",
              "      <th>Turnover</th>\n",
              "      <th>No. of Trades</th>\n",
              "      <th>Deliverable Qty</th>\n",
              "      <th>% Dly Qt to Traded Qty</th>\n",
              "    </tr>\n",
              "    <tr>\n",
              "      <th>Date</th>\n",
              "      <th></th>\n",
              "      <th></th>\n",
              "      <th></th>\n",
              "      <th></th>\n",
              "      <th></th>\n",
              "      <th></th>\n",
              "      <th></th>\n",
              "      <th></th>\n",
              "      <th></th>\n",
              "      <th></th>\n",
              "      <th></th>\n",
              "      <th></th>\n",
              "      <th></th>\n",
              "      <th></th>\n",
              "    </tr>\n",
              "  </thead>\n",
              "  <tbody>\n",
              "    <tr>\n",
              "      <th>2017-05-15</th>\n",
              "      <td>GAIL</td>\n",
              "      <td>EQ</td>\n",
              "      <td>409.20</td>\n",
              "      <td>413.05</td>\n",
              "      <td>415.25</td>\n",
              "      <td>410.00</td>\n",
              "      <td>413.80</td>\n",
              "      <td>414.00</td>\n",
              "      <td>412.83</td>\n",
              "      <td>1077551</td>\n",
              "      <td>4.448488e+08</td>\n",
              "      <td>22153</td>\n",
              "      <td>459059</td>\n",
              "      <td>42.60</td>\n",
              "    </tr>\n",
              "    <tr>\n",
              "      <th>2017-05-16</th>\n",
              "      <td>GAIL</td>\n",
              "      <td>EQ</td>\n",
              "      <td>414.00</td>\n",
              "      <td>415.80</td>\n",
              "      <td>416.00</td>\n",
              "      <td>410.25</td>\n",
              "      <td>411.00</td>\n",
              "      <td>411.40</td>\n",
              "      <td>412.85</td>\n",
              "      <td>2434834</td>\n",
              "      <td>1.005216e+09</td>\n",
              "      <td>46472</td>\n",
              "      <td>1771251</td>\n",
              "      <td>72.75</td>\n",
              "    </tr>\n",
              "    <tr>\n",
              "      <th>2017-05-17</th>\n",
              "      <td>GAIL</td>\n",
              "      <td>EQ</td>\n",
              "      <td>411.40</td>\n",
              "      <td>411.50</td>\n",
              "      <td>412.90</td>\n",
              "      <td>405.60</td>\n",
              "      <td>408.50</td>\n",
              "      <td>408.30</td>\n",
              "      <td>408.42</td>\n",
              "      <td>2002105</td>\n",
              "      <td>8.177070e+08</td>\n",
              "      <td>48972</td>\n",
              "      <td>1405319</td>\n",
              "      <td>70.19</td>\n",
              "    </tr>\n",
              "    <tr>\n",
              "      <th>2017-05-18</th>\n",
              "      <td>GAIL</td>\n",
              "      <td>EQ</td>\n",
              "      <td>408.30</td>\n",
              "      <td>406.35</td>\n",
              "      <td>409.00</td>\n",
              "      <td>401.50</td>\n",
              "      <td>403.00</td>\n",
              "      <td>404.75</td>\n",
              "      <td>407.03</td>\n",
              "      <td>2132140</td>\n",
              "      <td>8.678451e+08</td>\n",
              "      <td>39137</td>\n",
              "      <td>1405640</td>\n",
              "      <td>65.93</td>\n",
              "    </tr>\n",
              "    <tr>\n",
              "      <th>2017-05-19</th>\n",
              "      <td>GAIL</td>\n",
              "      <td>EQ</td>\n",
              "      <td>404.75</td>\n",
              "      <td>404.00</td>\n",
              "      <td>406.35</td>\n",
              "      <td>396.00</td>\n",
              "      <td>401.35</td>\n",
              "      <td>401.05</td>\n",
              "      <td>400.31</td>\n",
              "      <td>2847835</td>\n",
              "      <td>1.140022e+09</td>\n",
              "      <td>64928</td>\n",
              "      <td>1922275</td>\n",
              "      <td>67.50</td>\n",
              "    </tr>\n",
              "  </tbody>\n",
              "</table>\n",
              "</div>"
            ],
            "text/plain": [
              "           Symbol Series  ...  Deliverable Qty  % Dly Qt to Traded Qty\n",
              "Date                      ...                                         \n",
              "2017-05-15   GAIL     EQ  ...           459059                   42.60\n",
              "2017-05-16   GAIL     EQ  ...          1771251                   72.75\n",
              "2017-05-17   GAIL     EQ  ...          1405319                   70.19\n",
              "2017-05-18   GAIL     EQ  ...          1405640                   65.93\n",
              "2017-05-19   GAIL     EQ  ...          1922275                   67.50\n",
              "\n",
              "[5 rows x 14 columns]"
            ]
          },
          "metadata": {
            "tags": []
          },
          "execution_count": 16
        }
      ]
    },
    {
      "cell_type": "code",
      "metadata": {
        "id": "ii8u_8pI78ls",
        "colab_type": "code",
        "colab": {
          "base_uri": "https://localhost:8080/",
          "height": 33
        },
        "outputId": "b0b54648-6a52-4c67-ed08-ef23637776bd"
      },
      "source": [
        "gail_df.duplicated().sum()"
      ],
      "execution_count": 17,
      "outputs": [
        {
          "output_type": "execute_result",
          "data": {
            "text/plain": [
              "0"
            ]
          },
          "metadata": {
            "tags": []
          },
          "execution_count": 17
        }
      ]
    },
    {
      "cell_type": "code",
      "metadata": {
        "id": "S2N5nqJk78ly",
        "colab_type": "code",
        "colab": {
          "base_uri": "https://localhost:8080/",
          "height": 226
        },
        "outputId": "3e01db3b-97fb-4fbb-9058-352daf364792"
      },
      "source": [
        "nifty_df = pd.read_csv('Nifty50.csv')\n",
        "nifty_df['Date'] = pd.to_datetime(nifty_df['Date'])\n",
        "nifty_df = nifty_df.sort_values('Date')\n",
        "nifty_df.set_index('Date', inplace=True)\n",
        "nifty_df.head()"
      ],
      "execution_count": 19,
      "outputs": [
        {
          "output_type": "execute_result",
          "data": {
            "text/html": [
              "<div>\n",
              "<style scoped>\n",
              "    .dataframe tbody tr th:only-of-type {\n",
              "        vertical-align: middle;\n",
              "    }\n",
              "\n",
              "    .dataframe tbody tr th {\n",
              "        vertical-align: top;\n",
              "    }\n",
              "\n",
              "    .dataframe thead th {\n",
              "        text-align: right;\n",
              "    }\n",
              "</style>\n",
              "<table border=\"1\" class=\"dataframe\">\n",
              "  <thead>\n",
              "    <tr style=\"text-align: right;\">\n",
              "      <th></th>\n",
              "      <th>Open</th>\n",
              "      <th>High</th>\n",
              "      <th>Low</th>\n",
              "      <th>Close</th>\n",
              "      <th>Shares Traded</th>\n",
              "      <th>Turnover (Rs. Cr)</th>\n",
              "    </tr>\n",
              "    <tr>\n",
              "      <th>Date</th>\n",
              "      <th></th>\n",
              "      <th></th>\n",
              "      <th></th>\n",
              "      <th></th>\n",
              "      <th></th>\n",
              "      <th></th>\n",
              "    </tr>\n",
              "  </thead>\n",
              "  <tbody>\n",
              "    <tr>\n",
              "      <th>2017-05-15</th>\n",
              "      <td>9433.55</td>\n",
              "      <td>9449.25</td>\n",
              "      <td>9423.10</td>\n",
              "      <td>9445.40</td>\n",
              "      <td>145163953</td>\n",
              "      <td>7790.97</td>\n",
              "    </tr>\n",
              "    <tr>\n",
              "      <th>2017-05-16</th>\n",
              "      <td>9461.00</td>\n",
              "      <td>9517.20</td>\n",
              "      <td>9456.35</td>\n",
              "      <td>9512.25</td>\n",
              "      <td>171709433</td>\n",
              "      <td>9209.89</td>\n",
              "    </tr>\n",
              "    <tr>\n",
              "      <th>2017-05-17</th>\n",
              "      <td>9517.60</td>\n",
              "      <td>9532.60</td>\n",
              "      <td>9486.10</td>\n",
              "      <td>9525.75</td>\n",
              "      <td>211856040</td>\n",
              "      <td>10726.23</td>\n",
              "    </tr>\n",
              "    <tr>\n",
              "      <th>2017-05-18</th>\n",
              "      <td>9453.20</td>\n",
              "      <td>9489.10</td>\n",
              "      <td>9418.10</td>\n",
              "      <td>9429.45</td>\n",
              "      <td>199340647</td>\n",
              "      <td>10782.46</td>\n",
              "    </tr>\n",
              "    <tr>\n",
              "      <th>2017-05-19</th>\n",
              "      <td>9469.90</td>\n",
              "      <td>9505.75</td>\n",
              "      <td>9390.75</td>\n",
              "      <td>9427.90</td>\n",
              "      <td>259861396</td>\n",
              "      <td>11544.77</td>\n",
              "    </tr>\n",
              "  </tbody>\n",
              "</table>\n",
              "</div>"
            ],
            "text/plain": [
              "               Open     High  ...  Shares Traded  Turnover (Rs. Cr)\n",
              "Date                          ...                                  \n",
              "2017-05-15  9433.55  9449.25  ...      145163953            7790.97\n",
              "2017-05-16  9461.00  9517.20  ...      171709433            9209.89\n",
              "2017-05-17  9517.60  9532.60  ...      211856040           10726.23\n",
              "2017-05-18  9453.20  9489.10  ...      199340647           10782.46\n",
              "2017-05-19  9469.90  9505.75  ...      259861396           11544.77\n",
              "\n",
              "[5 rows x 6 columns]"
            ]
          },
          "metadata": {
            "tags": []
          },
          "execution_count": 19
        }
      ]
    },
    {
      "cell_type": "code",
      "metadata": {
        "id": "HGc9fCyD78l3",
        "colab_type": "code",
        "colab": {
          "base_uri": "https://localhost:8080/",
          "height": 33
        },
        "outputId": "61ebef5a-9c66-4cbb-a838-1dd0906760f8"
      },
      "source": [
        "nifty_df.duplicated().sum()"
      ],
      "execution_count": 20,
      "outputs": [
        {
          "output_type": "execute_result",
          "data": {
            "text/plain": [
              "0"
            ]
          },
          "metadata": {
            "tags": []
          },
          "execution_count": 20
        }
      ]
    },
    {
      "cell_type": "code",
      "metadata": {
        "id": "G09n3ZCO78l8",
        "colab_type": "code",
        "colab": {}
      },
      "source": [
        "three_months_gail = gail_df[-90:]\n",
        "three_months_nifty = nifty_df[-90:]"
      ],
      "execution_count": 21,
      "outputs": []
    },
    {
      "cell_type": "code",
      "metadata": {
        "id": "KXThz0Pz78mB",
        "colab_type": "code",
        "colab": {
          "base_uri": "https://localhost:8080/",
          "height": 237
        },
        "outputId": "c5ac4726-74c6-4a53-ab3f-f73a54979249"
      },
      "source": [
        "three_months_gail['pct_change'] = three_months_gail['Close Price'].pct_change().copy()\n",
        "three_months_nifty['pct_change'] = three_months_nifty['Close'].pct_change().copy()"
      ],
      "execution_count": 22,
      "outputs": [
        {
          "output_type": "stream",
          "text": [
            "/usr/local/lib/python3.6/dist-packages/ipykernel_launcher.py:1: SettingWithCopyWarning: \n",
            "A value is trying to be set on a copy of a slice from a DataFrame.\n",
            "Try using .loc[row_indexer,col_indexer] = value instead\n",
            "\n",
            "See the caveats in the documentation: https://pandas.pydata.org/pandas-docs/stable/user_guide/indexing.html#returning-a-view-versus-a-copy\n",
            "  \"\"\"Entry point for launching an IPython kernel.\n",
            "/usr/local/lib/python3.6/dist-packages/ipykernel_launcher.py:2: SettingWithCopyWarning: \n",
            "A value is trying to be set on a copy of a slice from a DataFrame.\n",
            "Try using .loc[row_indexer,col_indexer] = value instead\n",
            "\n",
            "See the caveats in the documentation: https://pandas.pydata.org/pandas-docs/stable/user_guide/indexing.html#returning-a-view-versus-a-copy\n",
            "  \n"
          ],
          "name": "stderr"
        }
      ]
    },
    {
      "cell_type": "code",
      "metadata": {
        "id": "vxiBCO8C78mG",
        "colab_type": "code",
        "colab": {
          "base_uri": "https://localhost:8080/",
          "height": 494
        },
        "outputId": "90d4cf8f-378c-446a-9d84-c9d7af8fc6e1"
      },
      "source": [
        "plt.figure(figsize=(20,10))\n",
        "three_months_nifty['pct_change'].plot()\n",
        "three_months_gail['pct_change'].plot()\n",
        "plt.title('Daily Returns of GAIL vs NIFTY')\n",
        "plt.ylabel(\"Close Price\")\n",
        "plt.xlabel('Date')\n",
        "plt.show()"
      ],
      "execution_count": 23,
      "outputs": [
        {
          "output_type": "display_data",
          "data": {
            "image/png": "[encoded data removed]",
            "text/plain": [
              "<Figure size 1440x720 with 1 Axes>"
            ]
          },
          "metadata": {
            "tags": [],
            "needs_background": "light"
          }
        }
      ]
    },
    {
      "cell_type": "code",
      "metadata": {
        "id": "Xcns-iuS78mK",
        "colab_type": "code",
        "colab": {}
      },
      "source": [
        "x = three_months_nifty['pct_change'].dropna()\n",
        "y = three_months_gail['pct_change'].dropna()"
      ],
      "execution_count": 24,
      "outputs": []
    },
    {
      "cell_type": "code",
      "metadata": {
        "id": "e4kYzBt_78mQ",
        "colab_type": "code",
        "colab": {}
      },
      "source": [
        "from statsmodels import api as sm"
      ],
      "execution_count": 25,
      "outputs": []
    },
    {
      "cell_type": "code",
      "metadata": {
        "id": "PNTTPobi78mW",
        "colab_type": "code",
        "colab": {
          "base_uri": "https://localhost:8080/",
          "height": 399
        },
        "outputId": "d79cc459-26b0-459f-db1c-31bb41f43c12"
      },
      "source": [
        "model = sm.OLS(x, y).fit()\n",
        "model.summary()"
      ],
      "execution_count": 26,
      "outputs": [
        {
          "output_type": "execute_result",
          "data": {
            "text/html": [
              "<table class=\"simpletable\">\n",
              "<caption>OLS Regression Results</caption>\n",
              "<tr>\n",
              "  <th>Dep. Variable:</th>       <td>pct_change</td>    <th>  R-squared (uncentered):</th>      <td>   0.224</td>\n",
              "</tr>\n",
              "<tr>\n",
              "  <th>Model:</th>                   <td>OLS</td>       <th>  Adj. R-squared (uncentered):</th> <td>   0.215</td>\n",
              "</tr>\n",
              "<tr>\n",
              "  <th>Method:</th>             <td>Least Squares</td>  <th>  F-statistic:       </th>          <td>   25.43</td>\n",
              "</tr>\n",
              "<tr>\n",
              "  <th>Date:</th>             <td>Sat, 22 Aug 2020</td> <th>  Prob (F-statistic):</th>          <td>2.43e-06</td>\n",
              "</tr>\n",
              "<tr>\n",
              "  <th>Time:</th>                 <td>08:15:50</td>     <th>  Log-Likelihood:    </th>          <td>  328.25</td>\n",
              "</tr>\n",
              "<tr>\n",
              "  <th>No. Observations:</th>      <td>    89</td>      <th>  AIC:               </th>          <td>  -654.5</td>\n",
              "</tr>\n",
              "<tr>\n",
              "  <th>Df Residuals:</th>          <td>    88</td>      <th>  BIC:               </th>          <td>  -652.0</td>\n",
              "</tr>\n",
              "<tr>\n",
              "  <th>Df Model:</th>              <td>     1</td>      <th>                     </th>              <td> </td>   \n",
              "</tr>\n",
              "<tr>\n",
              "  <th>Covariance Type:</th>      <td>nonrobust</td>    <th>                     </th>              <td> </td>   \n",
              "</tr>\n",
              "</table>\n",
              "<table class=\"simpletable\">\n",
              "<tr>\n",
              "       <td></td>         <th>coef</th>     <th>std err</th>      <th>t</th>      <th>P>|t|</th>  <th>[0.025</th>    <th>0.975]</th>  \n",
              "</tr>\n",
              "<tr>\n",
              "  <th>pct_change</th> <td>    0.1896</td> <td>    0.038</td> <td>    5.043</td> <td> 0.000</td> <td>    0.115</td> <td>    0.264</td>\n",
              "</tr>\n",
              "</table>\n",
              "<table class=\"simpletable\">\n",
              "<tr>\n",
              "  <th>Omnibus:</th>       <td> 3.502</td> <th>  Durbin-Watson:     </th> <td>   1.568</td>\n",
              "</tr>\n",
              "<tr>\n",
              "  <th>Prob(Omnibus):</th> <td> 0.174</td> <th>  Jarque-Bera (JB):  </th> <td>   1.945</td>\n",
              "</tr>\n",
              "<tr>\n",
              "  <th>Skew:</th>          <td> 0.007</td> <th>  Prob(JB):          </th> <td>   0.378</td>\n",
              "</tr>\n",
              "<tr>\n",
              "  <th>Kurtosis:</th>      <td> 2.276</td> <th>  Cond. No.          </th> <td>    1.00</td>\n",
              "</tr>\n",
              "</table><br/><br/>Warnings:<br/>[1] Standard Errors assume that the covariance matrix of the errors is correctly specified."
            ],
            "text/plain": [
              "<class 'statsmodels.iolib.summary.Summary'>\n",
              "\"\"\"\n",
              "                                 OLS Regression Results                                \n",
              "=======================================================================================\n",
              "Dep. Variable:             pct_change   R-squared (uncentered):                   0.224\n",
              "Model:                            OLS   Adj. R-squared (uncentered):              0.215\n",
              "Method:                 Least Squares   F-statistic:                              25.43\n",
              "Date:                Sat, 22 Aug 2020   Prob (F-statistic):                    2.43e-06\n",
              "Time:                        08:15:50   Log-Likelihood:                          328.25\n",
              "No. Observations:                  89   AIC:                                     -654.5\n",
              "Df Residuals:                      88   BIC:                                     -652.0\n",
              "Df Model:                           1                                                  \n",
              "Covariance Type:            nonrobust                                                  \n",
              "==============================================================================\n",
              "                 coef    std err          t      P>|t|      [0.025      0.975]\n",
              "------------------------------------------------------------------------------\n",
              "pct_change     0.1896      0.038      5.043      0.000       0.115       0.264\n",
              "==============================================================================\n",
              "Omnibus:                        3.502   Durbin-Watson:                   1.568\n",
              "Prob(Omnibus):                  0.174   Jarque-Bera (JB):                1.945\n",
              "Skew:                           0.007   Prob(JB):                        0.378\n",
              "Kurtosis:                       2.276   Cond. No.                         1.00\n",
              "==============================================================================\n",
              "\n",
              "Warnings:\n",
              "[1] Standard Errors assume that the covariance matrix of the errors is correctly specified.\n",
              "\"\"\""
            ]
          },
          "metadata": {
            "tags": []
          },
          "execution_count": 26
        }
      ]
    },
    {
      "cell_type": "code",
      "metadata": {
        "id": "m0TnAY9I78ma",
        "colab_type": "code",
        "colab": {
          "base_uri": "https://localhost:8080/",
          "height": 226
        },
        "outputId": "0ba6cbec-e49e-403a-a706-b11c788e3e2b"
      },
      "source": [
        "df = pd.concat([gail_df['Close Price'], nifty_df['Close']], axis=1)\n",
        "df.columns = ['GAIL', 'NIFTY']\n",
        "df.head()"
      ],
      "execution_count": 27,
      "outputs": [
        {
          "output_type": "execute_result",
          "data": {
            "text/html": [
              "<div>\n",
              "<style scoped>\n",
              "    .dataframe tbody tr th:only-of-type {\n",
              "        vertical-align: middle;\n",
              "    }\n",
              "\n",
              "    .dataframe tbody tr th {\n",
              "        vertical-align: top;\n",
              "    }\n",
              "\n",
              "    .dataframe thead th {\n",
              "        text-align: right;\n",
              "    }\n",
              "</style>\n",
              "<table border=\"1\" class=\"dataframe\">\n",
              "  <thead>\n",
              "    <tr style=\"text-align: right;\">\n",
              "      <th></th>\n",
              "      <th>GAIL</th>\n",
              "      <th>NIFTY</th>\n",
              "    </tr>\n",
              "    <tr>\n",
              "      <th>Date</th>\n",
              "      <th></th>\n",
              "      <th></th>\n",
              "    </tr>\n",
              "  </thead>\n",
              "  <tbody>\n",
              "    <tr>\n",
              "      <th>2017-05-15</th>\n",
              "      <td>414.00</td>\n",
              "      <td>9445.40</td>\n",
              "    </tr>\n",
              "    <tr>\n",
              "      <th>2017-05-16</th>\n",
              "      <td>411.40</td>\n",
              "      <td>9512.25</td>\n",
              "    </tr>\n",
              "    <tr>\n",
              "      <th>2017-05-17</th>\n",
              "      <td>408.30</td>\n",
              "      <td>9525.75</td>\n",
              "    </tr>\n",
              "    <tr>\n",
              "      <th>2017-05-18</th>\n",
              "      <td>404.75</td>\n",
              "      <td>9429.45</td>\n",
              "    </tr>\n",
              "    <tr>\n",
              "      <th>2017-05-19</th>\n",
              "      <td>401.05</td>\n",
              "      <td>9427.90</td>\n",
              "    </tr>\n",
              "  </tbody>\n",
              "</table>\n",
              "</div>"
            ],
            "text/plain": [
              "              GAIL    NIFTY\n",
              "Date                       \n",
              "2017-05-15  414.00  9445.40\n",
              "2017-05-16  411.40  9512.25\n",
              "2017-05-17  408.30  9525.75\n",
              "2017-05-18  404.75  9429.45\n",
              "2017-05-19  401.05  9427.90"
            ]
          },
          "metadata": {
            "tags": []
          },
          "execution_count": 27
        }
      ]
    },
    {
      "cell_type": "code",
      "metadata": {
        "id": "dtXnBqf978mg",
        "colab_type": "code",
        "colab": {
          "base_uri": "https://localhost:8080/",
          "height": 375
        },
        "outputId": "50765b7e-4dc7-46ea-ef6f-7db2f8774883"
      },
      "source": [
        "monthly_returns = df.pct_change(1).dropna(axis=0)\n",
        "#clean_monthly_returns = monthly_returns  # drop first missing row\n",
        "monthly_returns.head(10)"
      ],
      "execution_count": 28,
      "outputs": [
        {
          "output_type": "execute_result",
          "data": {
            "text/html": [
              "<div>\n",
              "<style scoped>\n",
              "    .dataframe tbody tr th:only-of-type {\n",
              "        vertical-align: middle;\n",
              "    }\n",
              "\n",
              "    .dataframe tbody tr th {\n",
              "        vertical-align: top;\n",
              "    }\n",
              "\n",
              "    .dataframe thead th {\n",
              "        text-align: right;\n",
              "    }\n",
              "</style>\n",
              "<table border=\"1\" class=\"dataframe\">\n",
              "  <thead>\n",
              "    <tr style=\"text-align: right;\">\n",
              "      <th></th>\n",
              "      <th>GAIL</th>\n",
              "      <th>NIFTY</th>\n",
              "    </tr>\n",
              "    <tr>\n",
              "      <th>Date</th>\n",
              "      <th></th>\n",
              "      <th></th>\n",
              "    </tr>\n",
              "  </thead>\n",
              "  <tbody>\n",
              "    <tr>\n",
              "      <th>2017-05-16</th>\n",
              "      <td>-0.006280</td>\n",
              "      <td>0.007078</td>\n",
              "    </tr>\n",
              "    <tr>\n",
              "      <th>2017-05-17</th>\n",
              "      <td>-0.007535</td>\n",
              "      <td>0.001419</td>\n",
              "    </tr>\n",
              "    <tr>\n",
              "      <th>2017-05-18</th>\n",
              "      <td>-0.008695</td>\n",
              "      <td>-0.010109</td>\n",
              "    </tr>\n",
              "    <tr>\n",
              "      <th>2017-05-19</th>\n",
              "      <td>-0.009141</td>\n",
              "      <td>-0.000164</td>\n",
              "    </tr>\n",
              "    <tr>\n",
              "      <th>2017-05-22</th>\n",
              "      <td>-0.027054</td>\n",
              "      <td>0.001098</td>\n",
              "    </tr>\n",
              "    <tr>\n",
              "      <th>2017-05-23</th>\n",
              "      <td>-0.025243</td>\n",
              "      <td>-0.005520</td>\n",
              "    </tr>\n",
              "    <tr>\n",
              "      <th>2017-05-24</th>\n",
              "      <td>0.027080</td>\n",
              "      <td>-0.002727</td>\n",
              "    </tr>\n",
              "    <tr>\n",
              "      <th>2017-05-25</th>\n",
              "      <td>0.026494</td>\n",
              "      <td>0.015939</td>\n",
              "    </tr>\n",
              "    <tr>\n",
              "      <th>2017-05-26</th>\n",
              "      <td>0.001870</td>\n",
              "      <td>0.008975</td>\n",
              "    </tr>\n",
              "    <tr>\n",
              "      <th>2017-05-29</th>\n",
              "      <td>-0.001493</td>\n",
              "      <td>0.001021</td>\n",
              "    </tr>\n",
              "  </tbody>\n",
              "</table>\n",
              "</div>"
            ],
            "text/plain": [
              "                GAIL     NIFTY\n",
              "Date                          \n",
              "2017-05-16 -0.006280  0.007078\n",
              "2017-05-17 -0.007535  0.001419\n",
              "2017-05-18 -0.008695 -0.010109\n",
              "2017-05-19 -0.009141 -0.000164\n",
              "2017-05-22 -0.027054  0.001098\n",
              "2017-05-23 -0.025243 -0.005520\n",
              "2017-05-24  0.027080 -0.002727\n",
              "2017-05-25  0.026494  0.015939\n",
              "2017-05-26  0.001870  0.008975\n",
              "2017-05-29 -0.001493  0.001021"
            ]
          },
          "metadata": {
            "tags": []
          },
          "execution_count": 28
        }
      ]
    },
    {
      "cell_type": "code",
      "metadata": {
        "id": "k3cRoDgl78mm",
        "colab_type": "code",
        "colab": {}
      },
      "source": [
        "x = monthly_returns['GAIL']\n",
        "y = monthly_returns['NIFTY']"
      ],
      "execution_count": 29,
      "outputs": []
    },
    {
      "cell_type": "code",
      "metadata": {
        "collapsed": true,
        "id": "j9QOtkwQ78mr",
        "colab_type": "code",
        "colab": {}
      },
      "source": [
        "X1 = sm.add_constant(x)"
      ],
      "execution_count": 30,
      "outputs": []
    },
    {
      "cell_type": "code",
      "metadata": {
        "id": "h0NI0GrX78my",
        "colab_type": "code",
        "colab": {}
      },
      "source": [
        "model = sm.OLS(y, X1)"
      ],
      "execution_count": 31,
      "outputs": []
    },
    {
      "cell_type": "code",
      "metadata": {
        "id": "MKdVbFsn78m4",
        "colab_type": "code",
        "colab": {
          "base_uri": "https://localhost:8080/",
          "height": 435
        },
        "outputId": "a3260400-dbae-4714-ad3f-3e956b6b9c02"
      },
      "source": [
        "result = model.fit()\n",
        "print(result.summary())"
      ],
      "execution_count": 32,
      "outputs": [
        {
          "output_type": "stream",
          "text": [
            "                            OLS Regression Results                            \n",
            "==============================================================================\n",
            "Dep. Variable:                  NIFTY   R-squared:                       0.077\n",
            "Model:                            OLS   Adj. R-squared:                  0.075\n",
            "Method:                 Least Squares   F-statistic:                     41.13\n",
            "Date:                Sat, 22 Aug 2020   Prob (F-statistic):           3.35e-10\n",
            "Time:                        08:16:16   Log-Likelihood:                 1752.7\n",
            "No. Observations:                 493   AIC:                            -3501.\n",
            "Df Residuals:                     491   BIC:                            -3493.\n",
            "Df Model:                           1                                         \n",
            "Covariance Type:            nonrobust                                         \n",
            "==============================================================================\n",
            "                 coef    std err          t      P>|t|      [0.025      0.975]\n",
            "------------------------------------------------------------------------------\n",
            "const          0.0004      0.000      1.223      0.222      -0.000       0.001\n",
            "GAIL           0.0940      0.015      6.413      0.000       0.065       0.123\n",
            "==============================================================================\n",
            "Omnibus:                        7.564   Durbin-Watson:                   1.898\n",
            "Prob(Omnibus):                  0.023   Jarque-Bera (JB):               10.332\n",
            "Skew:                          -0.118   Prob(JB):                      0.00571\n",
            "Kurtosis:                       3.669   Cond. No.                         47.0\n",
            "==============================================================================\n",
            "\n",
            "Warnings:\n",
            "[1] Standard Errors assume that the covariance matrix of the errors is correctly specified.\n"
          ],
          "name": "stdout"
        }
      ]
    },
    {
      "cell_type": "markdown",
      "metadata": {
        "id": "s0NIKVgR78m8",
        "colab_type": "text"
      },
      "source": [
        "**The monthly beta value for the stock GAIL is 0.0940**\n",
        "\n",
        "which is less than 1 and hence it is less volatile than the benchmark"
      ]
    }
  ]
}